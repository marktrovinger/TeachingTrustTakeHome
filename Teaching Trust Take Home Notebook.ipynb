{
 "cells": [
  {
   "cell_type": "markdown",
   "metadata": {},
   "source": [
    "# Teaching Trust Candidate Exercise"
   ]
  },
  {
   "cell_type": "markdown",
   "metadata": {},
   "source": [
    "## Table of Contents"
   ]
  },
  {
   "cell_type": "markdown",
   "metadata": {},
   "source": [
    "* [Python imports](#imports)\n",
    "* [Data Wrangling](#wrangling)\n",
    "* [Helper Function](#helper)\n",
    "* [Approaching Grade Level](#approaching)\n",
    "    * [Overall](#approaching_overall)\n",
    "    * [By School Type](#approaching_school_type)\n",
    "    * [By Gender](#approaching_gender)\n",
    "    * [By Race](#approaching_race)\n",
    "* [Meets Grade Level](#meets)\n",
    "    * [Overall](#meets_overall)\n",
    "    * [By School Type](#meets_school_type)\n",
    "    * [By Gender](#meets_gender)\n",
    "    * [By Race](#meets_race)\n",
    "* [Graph](#graphs)\n",
    "* [Writeup](#writeup)\n"
   ]
  },
  {
   "cell_type": "markdown",
   "metadata": {},
   "source": [
    "## Python imports <a class=\"anchor\" id=\"imports\"/>"
   ]
  },
  {
   "cell_type": "code",
   "execution_count": 1,
   "metadata": {
    "collapsed": true
   },
   "outputs": [],
   "source": [
    "import pandas as pd\n",
    "import numpy as np\n",
    "import matplotlib.pyplot as plt\n",
    "%matplotlib inline\n",
    "import seaborn as sns"
   ]
  },
  {
   "cell_type": "markdown",
   "metadata": {},
   "source": [
    "## Data Wrangling <a class=\"anchor\" id=\"wrangling\"/>"
   ]
  },
  {
   "cell_type": "code",
   "execution_count": 2,
   "metadata": {},
   "outputs": [
    {
     "data": {
      "text/html": [
       "<div>\n",
       "<style>\n",
       "    .dataframe thead tr:only-child th {\n",
       "        text-align: right;\n",
       "    }\n",
       "\n",
       "    .dataframe thead th {\n",
       "        text-align: left;\n",
       "    }\n",
       "\n",
       "    .dataframe tbody tr th {\n",
       "        vertical-align: top;\n",
       "    }\n",
       "</style>\n",
       "<table border=\"1\" class=\"dataframe\">\n",
       "  <thead>\n",
       "    <tr style=\"text-align: right;\">\n",
       "      <th></th>\n",
       "      <th>CAMPUS</th>\n",
       "      <th>CA00AR01016D</th>\n",
       "      <th>CA00AR01S16N</th>\n",
       "      <th>CB00AR01016D</th>\n",
       "      <th>CB00AR01S16N</th>\n",
       "      <th>CW00AR01016D</th>\n",
       "      <th>CW00AR01S16N</th>\n",
       "      <th>CH00AR01016D</th>\n",
       "      <th>CH00AR01S16N</th>\n",
       "      <th>CI00AR01016D</th>\n",
       "      <th>...</th>\n",
       "      <th>CI00AR03A17R</th>\n",
       "      <th>C200AR03A17R</th>\n",
       "      <th>C300AR03A17R</th>\n",
       "      <th>C400AR03A17R</th>\n",
       "      <th>CF00AR03A17R</th>\n",
       "      <th>CM00AR03A17R</th>\n",
       "      <th>CE00AR03A17R</th>\n",
       "      <th>CS00AR03A17R</th>\n",
       "      <th>CR00AR03A17R</th>\n",
       "      <th>CL00AR03A17R</th>\n",
       "    </tr>\n",
       "  </thead>\n",
       "  <tbody>\n",
       "    <tr>\n",
       "      <th>count</th>\n",
       "      <td>2.400000e+02</td>\n",
       "      <td>232.000000</td>\n",
       "      <td>232.000000</td>\n",
       "      <td>228.000000</td>\n",
       "      <td>228.00000</td>\n",
       "      <td>200.000000</td>\n",
       "      <td>200.000000</td>\n",
       "      <td>230.000000</td>\n",
       "      <td>230.000000</td>\n",
       "      <td>114.000000</td>\n",
       "      <td>...</td>\n",
       "      <td>109.0</td>\n",
       "      <td>144.000000</td>\n",
       "      <td>123.000000</td>\n",
       "      <td>31.0</td>\n",
       "      <td>227.000000</td>\n",
       "      <td>228.000000</td>\n",
       "      <td>230.000000</td>\n",
       "      <td>224.000000</td>\n",
       "      <td>230.000000</td>\n",
       "      <td>230.000000</td>\n",
       "    </tr>\n",
       "    <tr>\n",
       "      <th>mean</th>\n",
       "      <td>5.790516e+07</td>\n",
       "      <td>396.887931</td>\n",
       "      <td>250.000000</td>\n",
       "      <td>82.622807</td>\n",
       "      <td>45.02193</td>\n",
       "      <td>16.760000</td>\n",
       "      <td>14.670000</td>\n",
       "      <td>284.886957</td>\n",
       "      <td>181.982609</td>\n",
       "      <td>-0.859649</td>\n",
       "      <td>...</td>\n",
       "      <td>-1.0</td>\n",
       "      <td>3.708333</td>\n",
       "      <td>6.317073</td>\n",
       "      <td>-1.0</td>\n",
       "      <td>20.634361</td>\n",
       "      <td>15.736842</td>\n",
       "      <td>17.182609</td>\n",
       "      <td>2.089286</td>\n",
       "      <td>12.269565</td>\n",
       "      <td>14.391304</td>\n",
       "    </tr>\n",
       "    <tr>\n",
       "      <th>std</th>\n",
       "      <td>9.674570e+01</td>\n",
       "      <td>386.469026</td>\n",
       "      <td>220.787904</td>\n",
       "      <td>119.010782</td>\n",
       "      <td>58.96564</td>\n",
       "      <td>43.205043</td>\n",
       "      <td>40.504496</td>\n",
       "      <td>323.912929</td>\n",
       "      <td>189.724829</td>\n",
       "      <td>1.268245</td>\n",
       "      <td>...</td>\n",
       "      <td>0.0</td>\n",
       "      <td>18.998666</td>\n",
       "      <td>20.465211</td>\n",
       "      <td>0.0</td>\n",
       "      <td>14.408492</td>\n",
       "      <td>13.148794</td>\n",
       "      <td>12.252142</td>\n",
       "      <td>9.462272</td>\n",
       "      <td>10.133021</td>\n",
       "      <td>11.820119</td>\n",
       "    </tr>\n",
       "    <tr>\n",
       "      <th>min</th>\n",
       "      <td>5.790500e+07</td>\n",
       "      <td>0.000000</td>\n",
       "      <td>0.000000</td>\n",
       "      <td>-3.000000</td>\n",
       "      <td>-3.00000</td>\n",
       "      <td>-3.000000</td>\n",
       "      <td>-3.000000</td>\n",
       "      <td>-3.000000</td>\n",
       "      <td>-3.000000</td>\n",
       "      <td>-3.000000</td>\n",
       "      <td>...</td>\n",
       "      <td>-1.0</td>\n",
       "      <td>-1.000000</td>\n",
       "      <td>-1.000000</td>\n",
       "      <td>-1.0</td>\n",
       "      <td>-1.000000</td>\n",
       "      <td>-1.000000</td>\n",
       "      <td>-1.000000</td>\n",
       "      <td>-1.000000</td>\n",
       "      <td>-1.000000</td>\n",
       "      <td>-1.000000</td>\n",
       "    </tr>\n",
       "    <tr>\n",
       "      <th>25%</th>\n",
       "      <td>5.790507e+07</td>\n",
       "      <td>184.000000</td>\n",
       "      <td>129.500000</td>\n",
       "      <td>9.000000</td>\n",
       "      <td>6.00000</td>\n",
       "      <td>-1.000000</td>\n",
       "      <td>-1.000000</td>\n",
       "      <td>101.500000</td>\n",
       "      <td>72.250000</td>\n",
       "      <td>-1.000000</td>\n",
       "      <td>...</td>\n",
       "      <td>-1.0</td>\n",
       "      <td>-1.000000</td>\n",
       "      <td>-1.000000</td>\n",
       "      <td>-1.0</td>\n",
       "      <td>11.000000</td>\n",
       "      <td>7.000000</td>\n",
       "      <td>9.000000</td>\n",
       "      <td>-1.000000</td>\n",
       "      <td>4.000000</td>\n",
       "      <td>3.250000</td>\n",
       "    </tr>\n",
       "    <tr>\n",
       "      <th>50%</th>\n",
       "      <td>5.790516e+07</td>\n",
       "      <td>262.000000</td>\n",
       "      <td>177.500000</td>\n",
       "      <td>44.500000</td>\n",
       "      <td>23.50000</td>\n",
       "      <td>-1.000000</td>\n",
       "      <td>-1.000000</td>\n",
       "      <td>185.500000</td>\n",
       "      <td>130.000000</td>\n",
       "      <td>-1.000000</td>\n",
       "      <td>...</td>\n",
       "      <td>-1.0</td>\n",
       "      <td>-1.000000</td>\n",
       "      <td>-1.000000</td>\n",
       "      <td>-1.0</td>\n",
       "      <td>20.000000</td>\n",
       "      <td>14.000000</td>\n",
       "      <td>17.000000</td>\n",
       "      <td>-1.000000</td>\n",
       "      <td>13.000000</td>\n",
       "      <td>16.000000</td>\n",
       "    </tr>\n",
       "    <tr>\n",
       "      <th>75%</th>\n",
       "      <td>5.790523e+07</td>\n",
       "      <td>403.500000</td>\n",
       "      <td>261.500000</td>\n",
       "      <td>112.500000</td>\n",
       "      <td>63.00000</td>\n",
       "      <td>15.250000</td>\n",
       "      <td>11.250000</td>\n",
       "      <td>290.250000</td>\n",
       "      <td>203.250000</td>\n",
       "      <td>-1.000000</td>\n",
       "      <td>...</td>\n",
       "      <td>-1.0</td>\n",
       "      <td>-1.000000</td>\n",
       "      <td>-1.000000</td>\n",
       "      <td>-1.0</td>\n",
       "      <td>27.000000</td>\n",
       "      <td>22.000000</td>\n",
       "      <td>23.000000</td>\n",
       "      <td>-1.000000</td>\n",
       "      <td>18.000000</td>\n",
       "      <td>22.750000</td>\n",
       "    </tr>\n",
       "    <tr>\n",
       "      <th>max</th>\n",
       "      <td>5.790539e+07</td>\n",
       "      <td>3188.000000</td>\n",
       "      <td>1784.000000</td>\n",
       "      <td>797.000000</td>\n",
       "      <td>390.00000</td>\n",
       "      <td>286.000000</td>\n",
       "      <td>278.000000</td>\n",
       "      <td>2335.000000</td>\n",
       "      <td>1362.000000</td>\n",
       "      <td>9.000000</td>\n",
       "      <td>...</td>\n",
       "      <td>-1.0</td>\n",
       "      <td>100.000000</td>\n",
       "      <td>100.000000</td>\n",
       "      <td>-1.0</td>\n",
       "      <td>93.000000</td>\n",
       "      <td>79.000000</td>\n",
       "      <td>83.000000</td>\n",
       "      <td>73.000000</td>\n",
       "      <td>57.000000</td>\n",
       "      <td>56.000000</td>\n",
       "    </tr>\n",
       "  </tbody>\n",
       "</table>\n",
       "<p>8 rows × 253 columns</p>\n",
       "</div>"
      ],
      "text/plain": [
       "             CAMPUS  CA00AR01016D  CA00AR01S16N  CB00AR01016D  CB00AR01S16N  \\\n",
       "count  2.400000e+02    232.000000    232.000000    228.000000     228.00000   \n",
       "mean   5.790516e+07    396.887931    250.000000     82.622807      45.02193   \n",
       "std    9.674570e+01    386.469026    220.787904    119.010782      58.96564   \n",
       "min    5.790500e+07      0.000000      0.000000     -3.000000      -3.00000   \n",
       "25%    5.790507e+07    184.000000    129.500000      9.000000       6.00000   \n",
       "50%    5.790516e+07    262.000000    177.500000     44.500000      23.50000   \n",
       "75%    5.790523e+07    403.500000    261.500000    112.500000      63.00000   \n",
       "max    5.790539e+07   3188.000000   1784.000000    797.000000     390.00000   \n",
       "\n",
       "       CW00AR01016D  CW00AR01S16N  CH00AR01016D  CH00AR01S16N  CI00AR01016D  \\\n",
       "count    200.000000    200.000000    230.000000    230.000000    114.000000   \n",
       "mean      16.760000     14.670000    284.886957    181.982609     -0.859649   \n",
       "std       43.205043     40.504496    323.912929    189.724829      1.268245   \n",
       "min       -3.000000     -3.000000     -3.000000     -3.000000     -3.000000   \n",
       "25%       -1.000000     -1.000000    101.500000     72.250000     -1.000000   \n",
       "50%       -1.000000     -1.000000    185.500000    130.000000     -1.000000   \n",
       "75%       15.250000     11.250000    290.250000    203.250000     -1.000000   \n",
       "max      286.000000    278.000000   2335.000000   1362.000000      9.000000   \n",
       "\n",
       "           ...       CI00AR03A17R  C200AR03A17R  C300AR03A17R  C400AR03A17R  \\\n",
       "count      ...              109.0    144.000000    123.000000          31.0   \n",
       "mean       ...               -1.0      3.708333      6.317073          -1.0   \n",
       "std        ...                0.0     18.998666     20.465211           0.0   \n",
       "min        ...               -1.0     -1.000000     -1.000000          -1.0   \n",
       "25%        ...               -1.0     -1.000000     -1.000000          -1.0   \n",
       "50%        ...               -1.0     -1.000000     -1.000000          -1.0   \n",
       "75%        ...               -1.0     -1.000000     -1.000000          -1.0   \n",
       "max        ...               -1.0    100.000000    100.000000          -1.0   \n",
       "\n",
       "       CF00AR03A17R  CM00AR03A17R  CE00AR03A17R  CS00AR03A17R  CR00AR03A17R  \\\n",
       "count    227.000000    228.000000    230.000000    224.000000    230.000000   \n",
       "mean      20.634361     15.736842     17.182609      2.089286     12.269565   \n",
       "std       14.408492     13.148794     12.252142      9.462272     10.133021   \n",
       "min       -1.000000     -1.000000     -1.000000     -1.000000     -1.000000   \n",
       "25%       11.000000      7.000000      9.000000     -1.000000      4.000000   \n",
       "50%       20.000000     14.000000     17.000000     -1.000000     13.000000   \n",
       "75%       27.000000     22.000000     23.000000     -1.000000     18.000000   \n",
       "max       93.000000     79.000000     83.000000     73.000000     57.000000   \n",
       "\n",
       "       CL00AR03A17R  \n",
       "count    230.000000  \n",
       "mean      14.391304  \n",
       "std       11.820119  \n",
       "min       -1.000000  \n",
       "25%        3.250000  \n",
       "50%       16.000000  \n",
       "75%       22.750000  \n",
       "max       56.000000  \n",
       "\n",
       "[8 rows x 253 columns]"
      ]
     },
     "execution_count": 2,
     "metadata": {},
     "output_type": "execute_result"
    }
   ],
   "source": [
    "dallas_staar_data = pd.read_excel('data/Teaching Trust Jr. Data Scientist data subset.xlsx', na_values='.')\n",
    "dallas_staar_data.describe()"
   ]
  },
  {
   "cell_type": "code",
   "execution_count": 3,
   "metadata": {},
   "outputs": [
    {
     "data": {
      "text/html": [
       "<div>\n",
       "<style>\n",
       "    .dataframe thead tr:only-child th {\n",
       "        text-align: right;\n",
       "    }\n",
       "\n",
       "    .dataframe thead th {\n",
       "        text-align: left;\n",
       "    }\n",
       "\n",
       "    .dataframe tbody tr th {\n",
       "        vertical-align: top;\n",
       "    }\n",
       "</style>\n",
       "<table border=\"1\" class=\"dataframe\">\n",
       "  <thead>\n",
       "    <tr style=\"text-align: right;\">\n",
       "      <th></th>\n",
       "      <th>CAMPUS</th>\n",
       "      <th>CA00AR01016D</th>\n",
       "      <th>CA00AR01S16N</th>\n",
       "      <th>CB00AR01016D</th>\n",
       "      <th>CB00AR01S16N</th>\n",
       "      <th>CW00AR01016D</th>\n",
       "      <th>CW00AR01S16N</th>\n",
       "      <th>CH00AR01016D</th>\n",
       "      <th>CH00AR01S16N</th>\n",
       "      <th>CI00AR01016D</th>\n",
       "      <th>...</th>\n",
       "      <th>CI00AR03A17R</th>\n",
       "      <th>C200AR03A17R</th>\n",
       "      <th>C300AR03A17R</th>\n",
       "      <th>C400AR03A17R</th>\n",
       "      <th>CF00AR03A17R</th>\n",
       "      <th>CM00AR03A17R</th>\n",
       "      <th>CE00AR03A17R</th>\n",
       "      <th>CS00AR03A17R</th>\n",
       "      <th>CR00AR03A17R</th>\n",
       "      <th>CL00AR03A17R</th>\n",
       "    </tr>\n",
       "  </thead>\n",
       "  <tbody>\n",
       "    <tr>\n",
       "      <th>count</th>\n",
       "      <td>2.400000e+02</td>\n",
       "      <td>232.000000</td>\n",
       "      <td>232.000000</td>\n",
       "      <td>228.000000</td>\n",
       "      <td>228.000000</td>\n",
       "      <td>200.000000</td>\n",
       "      <td>200.000000</td>\n",
       "      <td>230.00000</td>\n",
       "      <td>230.000000</td>\n",
       "      <td>114.000000</td>\n",
       "      <td>...</td>\n",
       "      <td>109.0</td>\n",
       "      <td>144.000000</td>\n",
       "      <td>123.000000</td>\n",
       "      <td>31.0</td>\n",
       "      <td>227.000000</td>\n",
       "      <td>228.000000</td>\n",
       "      <td>230.000000</td>\n",
       "      <td>224.000000</td>\n",
       "      <td>230.000000</td>\n",
       "      <td>230.000000</td>\n",
       "    </tr>\n",
       "    <tr>\n",
       "      <th>mean</th>\n",
       "      <td>5.790516e+07</td>\n",
       "      <td>396.887931</td>\n",
       "      <td>250.000000</td>\n",
       "      <td>83.008772</td>\n",
       "      <td>45.407895</td>\n",
       "      <td>17.440000</td>\n",
       "      <td>15.350000</td>\n",
       "      <td>285.03913</td>\n",
       "      <td>182.134783</td>\n",
       "      <td>0.166667</td>\n",
       "      <td>...</td>\n",
       "      <td>0.0</td>\n",
       "      <td>4.645833</td>\n",
       "      <td>7.178862</td>\n",
       "      <td>0.0</td>\n",
       "      <td>20.687225</td>\n",
       "      <td>15.837719</td>\n",
       "      <td>17.230435</td>\n",
       "      <td>2.924107</td>\n",
       "      <td>12.417391</td>\n",
       "      <td>14.595652</td>\n",
       "    </tr>\n",
       "    <tr>\n",
       "      <th>std</th>\n",
       "      <td>9.674570e+01</td>\n",
       "      <td>386.469026</td>\n",
       "      <td>220.787904</td>\n",
       "      <td>118.736965</td>\n",
       "      <td>58.660040</td>\n",
       "      <td>42.922232</td>\n",
       "      <td>40.238204</td>\n",
       "      <td>323.77776</td>\n",
       "      <td>189.576946</td>\n",
       "      <td>1.063611</td>\n",
       "      <td>...</td>\n",
       "      <td>0.0</td>\n",
       "      <td>18.764819</td>\n",
       "      <td>20.155149</td>\n",
       "      <td>0.0</td>\n",
       "      <td>14.330300</td>\n",
       "      <td>13.022684</td>\n",
       "      <td>12.182525</td>\n",
       "      <td>9.191951</td>\n",
       "      <td>9.943054</td>\n",
       "      <td>11.556846</td>\n",
       "    </tr>\n",
       "    <tr>\n",
       "      <th>min</th>\n",
       "      <td>5.790500e+07</td>\n",
       "      <td>0.000000</td>\n",
       "      <td>0.000000</td>\n",
       "      <td>0.000000</td>\n",
       "      <td>0.000000</td>\n",
       "      <td>0.000000</td>\n",
       "      <td>0.000000</td>\n",
       "      <td>0.00000</td>\n",
       "      <td>0.000000</td>\n",
       "      <td>0.000000</td>\n",
       "      <td>...</td>\n",
       "      <td>0.0</td>\n",
       "      <td>0.000000</td>\n",
       "      <td>0.000000</td>\n",
       "      <td>0.0</td>\n",
       "      <td>0.000000</td>\n",
       "      <td>0.000000</td>\n",
       "      <td>0.000000</td>\n",
       "      <td>0.000000</td>\n",
       "      <td>0.000000</td>\n",
       "      <td>0.000000</td>\n",
       "    </tr>\n",
       "    <tr>\n",
       "      <th>25%</th>\n",
       "      <td>5.790507e+07</td>\n",
       "      <td>184.000000</td>\n",
       "      <td>129.500000</td>\n",
       "      <td>9.000000</td>\n",
       "      <td>6.000000</td>\n",
       "      <td>0.000000</td>\n",
       "      <td>0.000000</td>\n",
       "      <td>101.50000</td>\n",
       "      <td>72.250000</td>\n",
       "      <td>0.000000</td>\n",
       "      <td>...</td>\n",
       "      <td>0.0</td>\n",
       "      <td>0.000000</td>\n",
       "      <td>0.000000</td>\n",
       "      <td>0.0</td>\n",
       "      <td>11.000000</td>\n",
       "      <td>7.000000</td>\n",
       "      <td>9.000000</td>\n",
       "      <td>0.000000</td>\n",
       "      <td>4.000000</td>\n",
       "      <td>3.250000</td>\n",
       "    </tr>\n",
       "    <tr>\n",
       "      <th>50%</th>\n",
       "      <td>5.790516e+07</td>\n",
       "      <td>262.000000</td>\n",
       "      <td>177.500000</td>\n",
       "      <td>44.500000</td>\n",
       "      <td>23.500000</td>\n",
       "      <td>0.000000</td>\n",
       "      <td>0.000000</td>\n",
       "      <td>185.50000</td>\n",
       "      <td>130.000000</td>\n",
       "      <td>0.000000</td>\n",
       "      <td>...</td>\n",
       "      <td>0.0</td>\n",
       "      <td>0.000000</td>\n",
       "      <td>0.000000</td>\n",
       "      <td>0.0</td>\n",
       "      <td>20.000000</td>\n",
       "      <td>14.000000</td>\n",
       "      <td>17.000000</td>\n",
       "      <td>0.000000</td>\n",
       "      <td>13.000000</td>\n",
       "      <td>16.000000</td>\n",
       "    </tr>\n",
       "    <tr>\n",
       "      <th>75%</th>\n",
       "      <td>5.790523e+07</td>\n",
       "      <td>403.500000</td>\n",
       "      <td>261.500000</td>\n",
       "      <td>112.500000</td>\n",
       "      <td>63.000000</td>\n",
       "      <td>15.250000</td>\n",
       "      <td>11.250000</td>\n",
       "      <td>290.25000</td>\n",
       "      <td>203.250000</td>\n",
       "      <td>0.000000</td>\n",
       "      <td>...</td>\n",
       "      <td>0.0</td>\n",
       "      <td>0.000000</td>\n",
       "      <td>0.000000</td>\n",
       "      <td>0.0</td>\n",
       "      <td>27.000000</td>\n",
       "      <td>22.000000</td>\n",
       "      <td>23.000000</td>\n",
       "      <td>0.000000</td>\n",
       "      <td>18.000000</td>\n",
       "      <td>22.750000</td>\n",
       "    </tr>\n",
       "    <tr>\n",
       "      <th>max</th>\n",
       "      <td>5.790539e+07</td>\n",
       "      <td>3188.000000</td>\n",
       "      <td>1784.000000</td>\n",
       "      <td>797.000000</td>\n",
       "      <td>390.000000</td>\n",
       "      <td>286.000000</td>\n",
       "      <td>278.000000</td>\n",
       "      <td>2335.00000</td>\n",
       "      <td>1362.000000</td>\n",
       "      <td>9.000000</td>\n",
       "      <td>...</td>\n",
       "      <td>0.0</td>\n",
       "      <td>100.000000</td>\n",
       "      <td>100.000000</td>\n",
       "      <td>0.0</td>\n",
       "      <td>93.000000</td>\n",
       "      <td>79.000000</td>\n",
       "      <td>83.000000</td>\n",
       "      <td>73.000000</td>\n",
       "      <td>57.000000</td>\n",
       "      <td>56.000000</td>\n",
       "    </tr>\n",
       "  </tbody>\n",
       "</table>\n",
       "<p>8 rows × 253 columns</p>\n",
       "</div>"
      ],
      "text/plain": [
       "             CAMPUS  CA00AR01016D  CA00AR01S16N  CB00AR01016D  CB00AR01S16N  \\\n",
       "count  2.400000e+02    232.000000    232.000000    228.000000    228.000000   \n",
       "mean   5.790516e+07    396.887931    250.000000     83.008772     45.407895   \n",
       "std    9.674570e+01    386.469026    220.787904    118.736965     58.660040   \n",
       "min    5.790500e+07      0.000000      0.000000      0.000000      0.000000   \n",
       "25%    5.790507e+07    184.000000    129.500000      9.000000      6.000000   \n",
       "50%    5.790516e+07    262.000000    177.500000     44.500000     23.500000   \n",
       "75%    5.790523e+07    403.500000    261.500000    112.500000     63.000000   \n",
       "max    5.790539e+07   3188.000000   1784.000000    797.000000    390.000000   \n",
       "\n",
       "       CW00AR01016D  CW00AR01S16N  CH00AR01016D  CH00AR01S16N  CI00AR01016D  \\\n",
       "count    200.000000    200.000000     230.00000    230.000000    114.000000   \n",
       "mean      17.440000     15.350000     285.03913    182.134783      0.166667   \n",
       "std       42.922232     40.238204     323.77776    189.576946      1.063611   \n",
       "min        0.000000      0.000000       0.00000      0.000000      0.000000   \n",
       "25%        0.000000      0.000000     101.50000     72.250000      0.000000   \n",
       "50%        0.000000      0.000000     185.50000    130.000000      0.000000   \n",
       "75%       15.250000     11.250000     290.25000    203.250000      0.000000   \n",
       "max      286.000000    278.000000    2335.00000   1362.000000      9.000000   \n",
       "\n",
       "           ...       CI00AR03A17R  C200AR03A17R  C300AR03A17R  C400AR03A17R  \\\n",
       "count      ...              109.0    144.000000    123.000000          31.0   \n",
       "mean       ...                0.0      4.645833      7.178862           0.0   \n",
       "std        ...                0.0     18.764819     20.155149           0.0   \n",
       "min        ...                0.0      0.000000      0.000000           0.0   \n",
       "25%        ...                0.0      0.000000      0.000000           0.0   \n",
       "50%        ...                0.0      0.000000      0.000000           0.0   \n",
       "75%        ...                0.0      0.000000      0.000000           0.0   \n",
       "max        ...                0.0    100.000000    100.000000           0.0   \n",
       "\n",
       "       CF00AR03A17R  CM00AR03A17R  CE00AR03A17R  CS00AR03A17R  CR00AR03A17R  \\\n",
       "count    227.000000    228.000000    230.000000    224.000000    230.000000   \n",
       "mean      20.687225     15.837719     17.230435      2.924107     12.417391   \n",
       "std       14.330300     13.022684     12.182525      9.191951      9.943054   \n",
       "min        0.000000      0.000000      0.000000      0.000000      0.000000   \n",
       "25%       11.000000      7.000000      9.000000      0.000000      4.000000   \n",
       "50%       20.000000     14.000000     17.000000      0.000000     13.000000   \n",
       "75%       27.000000     22.000000     23.000000      0.000000     18.000000   \n",
       "max       93.000000     79.000000     83.000000     73.000000     57.000000   \n",
       "\n",
       "       CL00AR03A17R  \n",
       "count    230.000000  \n",
       "mean      14.595652  \n",
       "std       11.556846  \n",
       "min        0.000000  \n",
       "25%        3.250000  \n",
       "50%       16.000000  \n",
       "75%       22.750000  \n",
       "max       56.000000  \n",
       "\n",
       "[8 rows x 253 columns]"
      ]
     },
     "execution_count": 3,
     "metadata": {},
     "output_type": "execute_result"
    }
   ],
   "source": [
    "dallas_staar_data = dallas_staar_data.replace([-1,-3], 0)\n",
    "dallas_staar_data.describe()"
   ]
  },
  {
   "cell_type": "code",
   "execution_count": 4,
   "metadata": {
    "collapsed": true
   },
   "outputs": [],
   "source": [
    "index = ['Approaching grade level', 'Meets grade level']\n",
    "columns = ['overall', 'school_type_e', 'school_type_m', 'school_type_s', 'female', 'male', 'african american', \n",
    "          'american indian', 'asian', 'hispanic', 'pacific islander', 'two or more races', 'white']\n",
    "percentages_df = pd.DataFrame(index=index, columns=columns)"
   ]
  },
  {
   "cell_type": "markdown",
   "metadata": {},
   "source": [
    "## Helper Function <a class=\"anchor\" id=\"helper\"/>"
   ]
  },
  {
   "cell_type": "code",
   "execution_count": 5,
   "metadata": {
    "collapsed": true
   },
   "outputs": [],
   "source": [
    "# TODO: Write a docstring for this, also round returned values\n",
    "\n",
    "def calculate_percentage(column1, column2):\n",
    "    if(dallas_staar_data[column1].sum() == 0 or dallas_staar_data[column2].sum() == 0):\n",
    "        print(\"Insufficient data to calculate percentage.\")\n",
    "    else:\n",
    "        return(dallas_staar_data[column1].sum() / dallas_staar_data[column2].sum() * 100)"
   ]
  },
  {
   "cell_type": "markdown",
   "metadata": {},
   "source": [
    "# Approaching Grade Level <a class=\"anchor\" id=\"approaching\"/>"
   ]
  },
  {
   "cell_type": "markdown",
   "metadata": {},
   "source": [
    "## Overall <a class=\"anchor\" id=\"approaching_overall\"/>"
   ]
  },
  {
   "cell_type": "markdown",
   "metadata": {},
   "source": [
    "For the approaching grade level portion, I looked the list of columns described in the [document](https://rptsvr1.tea.texas.gov/perfreport/tapr/2017/download/campstaar2a.html) relating to approaching grade level. The first part asks for the overall percentage of students whose STAAR reading scores are approaching grade level, for this I used the columns CA00AR01017D and CA00AR01S17N."
   ]
  },
  {
   "cell_type": "code",
   "execution_count": 6,
   "metadata": {},
   "outputs": [
    {
     "data": {
      "text/plain": [
       "62.963442810563365"
      ]
     },
     "execution_count": 6,
     "metadata": {},
     "output_type": "execute_result"
    }
   ],
   "source": [
    "percentages_df.loc['Approaching grade level','overall'] = calculate_percentage('CA00AR01S17N', 'CA00AR01017D')\n",
    "calculate_percentage('CA00AR01S17N', 'CA00AR01017D')"
   ]
  },
  {
   "cell_type": "markdown",
   "metadata": {},
   "source": [
    "## By School Type <a class=\"anchor\" id=\"approaching_school_type\"/>"
   ]
  },
  {
   "cell_type": "markdown",
   "metadata": {},
   "source": [
    "The next portion breaks down the percentage of students approaching grade level into three categories: Elementary (E), Middle (M), and High School (S). To do this, three new dataframes were created, one for each grade level. Variables were created for this section as well as the [relevant section for Meets Grade Level](#meets_school_type) instead of outputting values, so that they can be used later to create both the graph and the table. "
   ]
  },
  {
   "cell_type": "code",
   "execution_count": 7,
   "metadata": {},
   "outputs": [],
   "source": [
    "dallas_staar_data_e = dallas_staar_data[dallas_staar_data['GRDTYPE'] == 'E']\n",
    "dallas_staar_data_m = dallas_staar_data[dallas_staar_data['GRDTYPE'] == 'M']\n",
    "dallas_staar_data_s = dallas_staar_data[dallas_staar_data['GRDTYPE'] == 'S']"
   ]
  },
  {
   "cell_type": "markdown",
   "metadata": {},
   "source": [
    "With the three new dataframes populated, we can use the same columns that were used for the overall percentage."
   ]
  },
  {
   "cell_type": "code",
   "execution_count": 8,
   "metadata": {},
   "outputs": [
    {
     "name": "stdout",
     "output_type": "stream",
     "text": [
      "68.06284207242719\n"
     ]
    }
   ],
   "source": [
    "approach_grade_level_e = (dallas_staar_data_e['CA00AR01S17N'].sum(skipna=True) / dallas_staar_data_e['CA00AR01017D'].sum(skipna=True)) * 100\n",
    "percentages_df.loc['Approaching grade level', 'school_type_e'] = approach_grade_level_e\n",
    "print(approach_grade_level_e)"
   ]
  },
  {
   "cell_type": "code",
   "execution_count": 9,
   "metadata": {},
   "outputs": [
    {
     "name": "stdout",
     "output_type": "stream",
     "text": [
      "64.53500522466041\n"
     ]
    }
   ],
   "source": [
    "approach_grade_level_m = (dallas_staar_data_m['CA00AR01S17N'].sum(skipna=True) / dallas_staar_data_m['CA00AR01017D'].sum(skipna=True)) * 100\n",
    "percentages_df.loc['Approaching grade level', 'school_type_m'] = approach_grade_level_m\n",
    "print(approach_grade_level_m)"
   ]
  },
  {
   "cell_type": "code",
   "execution_count": 10,
   "metadata": {},
   "outputs": [
    {
     "name": "stdout",
     "output_type": "stream",
     "text": [
      "55.1118712695033\n"
     ]
    }
   ],
   "source": [
    "approach_grade_level_s = (dallas_staar_data_s['CA00AR01S17N'].sum(skipna=True) / dallas_staar_data_s['CA00AR01017D'].sum(skipna=True)) * 100\n",
    "percentages_df.loc['Approaching grade level', 'school_type_s'] = approach_grade_level_s\n",
    "print(approach_grade_level_s)"
   ]
  },
  {
   "cell_type": "markdown",
   "metadata": {},
   "source": [
    "## By Gender <a class=\"anchor\" id=\"approaching_gender\"/>"
   ]
  },
  {
   "cell_type": "markdown",
   "metadata": {},
   "source": [
    "For the gender percentage, we can use the original dataframe, instead of creating new dataframes."
   ]
  },
  {
   "cell_type": "markdown",
   "metadata": {},
   "source": [
    "### Female "
   ]
  },
  {
   "cell_type": "code",
   "execution_count": 11,
   "metadata": {},
   "outputs": [
    {
     "data": {
      "text/plain": [
       "67.83724274287769"
      ]
     },
     "execution_count": 11,
     "metadata": {},
     "output_type": "execute_result"
    }
   ],
   "source": [
    "percentages_df.loc['Approaching grade level', 'female'] = calculate_percentage('CF00AR01S17N', 'CF00AR01017D')\n",
    "calculate_percentage('CF00AR01S17N', 'CF00AR01017D')"
   ]
  },
  {
   "cell_type": "markdown",
   "metadata": {},
   "source": [
    "### Male"
   ]
  },
  {
   "cell_type": "code",
   "execution_count": 12,
   "metadata": {},
   "outputs": [
    {
     "data": {
      "text/plain": [
       "58.4561345166587"
      ]
     },
     "execution_count": 12,
     "metadata": {},
     "output_type": "execute_result"
    }
   ],
   "source": [
    "percentages_df.loc['Approaching grade level', 'male'] = calculate_percentage('CM00AR01S17N', 'CM00AR01017D')\n",
    "calculate_percentage('CM00AR01S17N', 'CM00AR01017D')"
   ]
  },
  {
   "cell_type": "markdown",
   "metadata": {},
   "source": [
    "## By Race <a class=\"anchor\" id=\"approaching_race\"/>"
   ]
  },
  {
   "cell_type": "markdown",
   "metadata": {},
   "source": [
    "Similarly to gender, we can use the original dataframe, but different columns will be used for each calculation."
   ]
  },
  {
   "cell_type": "markdown",
   "metadata": {},
   "source": [
    "### African-American"
   ]
  },
  {
   "cell_type": "code",
   "execution_count": 13,
   "metadata": {},
   "outputs": [
    {
     "data": {
      "text/plain": [
       "52.795933188090046"
      ]
     },
     "execution_count": 13,
     "metadata": {},
     "output_type": "execute_result"
    }
   ],
   "source": [
    "percentages_df.loc['Approaching grade level', 'african american'] = calculate_percentage('CB00AR01S17N', 'CB00AR01017D')\n",
    "calculate_percentage('CB00AR01S17N', 'CB00AR01017D')"
   ]
  },
  {
   "cell_type": "markdown",
   "metadata": {},
   "source": [
    "### American Indian"
   ]
  },
  {
   "cell_type": "code",
   "execution_count": 14,
   "metadata": {},
   "outputs": [
    {
     "data": {
      "text/plain": [
       "59.25925925925925"
      ]
     },
     "execution_count": 14,
     "metadata": {},
     "output_type": "execute_result"
    }
   ],
   "source": [
    "percentages_df.loc['Approaching grade level', 'american indian'] = calculate_percentage('CI00AR01S17N', 'CI00AR01017D')\n",
    "calculate_percentage('CI00AR01S17N', 'CI00AR01017D')"
   ]
  },
  {
   "cell_type": "markdown",
   "metadata": {},
   "source": [
    "### Asian"
   ]
  },
  {
   "cell_type": "code",
   "execution_count": 15,
   "metadata": {},
   "outputs": [
    {
     "data": {
      "text/plain": [
       "65.82568807339449"
      ]
     },
     "execution_count": 15,
     "metadata": {},
     "output_type": "execute_result"
    }
   ],
   "source": [
    "percentages_df.loc['Approaching grade level', 'asian'] = calculate_percentage('C300AR01S17N', 'C300AR01017D')\n",
    "calculate_percentage('C300AR01S17N', 'C300AR01017D')"
   ]
  },
  {
   "cell_type": "markdown",
   "metadata": {},
   "source": [
    "### Hispanic"
   ]
  },
  {
   "cell_type": "code",
   "execution_count": 16,
   "metadata": {},
   "outputs": [
    {
     "data": {
      "text/plain": [
       "64.38358242925423"
      ]
     },
     "execution_count": 16,
     "metadata": {},
     "output_type": "execute_result"
    }
   ],
   "source": [
    "percentages_df.loc['Approaching grade level', 'hispanic'] = calculate_percentage('CH00AR01S17N', 'CH00AR01017D')\n",
    "calculate_percentage('CH00AR01S17N', 'CH00AR01017D')"
   ]
  },
  {
   "cell_type": "markdown",
   "metadata": {},
   "source": [
    "### Pacific Islander"
   ]
  },
  {
   "cell_type": "code",
   "execution_count": 17,
   "metadata": {},
   "outputs": [
    {
     "name": "stdout",
     "output_type": "stream",
     "text": [
      "Insufficient data to calculate percentage.\n"
     ]
    }
   ],
   "source": [
    "percentages_df.loc['Approaching grade level', 'pacific islander'] = np.nan\n",
    "calculate_percentage('C400AR01S17N', 'C400AR01017D')"
   ]
  },
  {
   "cell_type": "markdown",
   "metadata": {},
   "source": [
    "### Two or More Races"
   ]
  },
  {
   "cell_type": "code",
   "execution_count": 18,
   "metadata": {},
   "outputs": [
    {
     "data": {
      "text/plain": [
       "91.66666666666666"
      ]
     },
     "execution_count": 18,
     "metadata": {},
     "output_type": "execute_result"
    }
   ],
   "source": [
    "percentages_df.loc['Approaching grade level', 'two or more races'] = calculate_percentage('C200AR01S17N', 'C200AR01017D')\n",
    "calculate_percentage('C200AR01S17N', 'C200AR01017D')"
   ]
  },
  {
   "cell_type": "markdown",
   "metadata": {},
   "source": [
    "### White"
   ]
  },
  {
   "cell_type": "code",
   "execution_count": 19,
   "metadata": {},
   "outputs": [
    {
     "data": {
      "text/plain": [
       "86.72821696480092"
      ]
     },
     "execution_count": 19,
     "metadata": {},
     "output_type": "execute_result"
    }
   ],
   "source": [
    "percentages_df.loc['Approaching grade level', 'white'] = calculate_percentage('CW00AR01S17N', 'CW00AR01017D')\n",
    "calculate_percentage('CW00AR01S17N', 'CW00AR01017D')"
   ]
  },
  {
   "cell_type": "markdown",
   "metadata": {},
   "source": [
    "# Meets Grade Level <a class=\"anchor\" id=\"meets\"/>\n",
    "The methodology used for the [approaching grade level section](#approaching) will be used here as well, given the difference is the columns used. "
   ]
  },
  {
   "cell_type": "markdown",
   "metadata": {},
   "source": [
    "## Overall <a class=\"anchor\" id=\"meets_overall\"/>"
   ]
  },
  {
   "cell_type": "code",
   "execution_count": 20,
   "metadata": {},
   "outputs": [
    {
     "data": {
      "text/plain": [
       "34.01709189068156"
      ]
     },
     "execution_count": 20,
     "metadata": {},
     "output_type": "execute_result"
    }
   ],
   "source": [
    "percentages_df.loc['Meets grade level','overall'] = calculate_percentage('CA00AR04216N', 'CA00AR04217D')\n",
    "calculate_percentage('CA00AR04216N', 'CA00AR04217D')"
   ]
  },
  {
   "cell_type": "markdown",
   "metadata": {},
   "source": [
    "## By School Type <a class=\"anchor\" id=\"meets_school_type\"/>"
   ]
  },
  {
   "cell_type": "markdown",
   "metadata": {},
   "source": [
    "### Elementary School"
   ]
  },
  {
   "cell_type": "code",
   "execution_count": 21,
   "metadata": {},
   "outputs": [
    {
     "name": "stdout",
     "output_type": "stream",
     "text": [
      "35.378060524703066\n"
     ]
    }
   ],
   "source": [
    "meets_grade_level_e = (dallas_staar_data_e['CA00AR04216N'].sum(skipna=True) / dallas_staar_data_e['CA00AR04217D'].sum(skipna=True)) * 100\n",
    "percentages_df.loc['Meets grade level', 'school_type_e'] = meets_grade_level_e\n",
    "print(meets_grade_level_e)"
   ]
  },
  {
   "cell_type": "markdown",
   "metadata": {},
   "source": [
    "### Middle School"
   ]
  },
  {
   "cell_type": "code",
   "execution_count": 22,
   "metadata": {},
   "outputs": [
    {
     "name": "stdout",
     "output_type": "stream",
     "text": [
      "28.334827029933678\n"
     ]
    }
   ],
   "source": [
    "meets_grade_level_m = (dallas_staar_data_m['CA00AR04216N'].sum(skipna=True) / dallas_staar_data_m['CA00AR04217D'].sum(skipna=True)) * 100\n",
    "percentages_df.loc['Meets grade level', 'school_type_m'] = meets_grade_level_m\n",
    "print(meets_grade_level_m)"
   ]
  },
  {
   "cell_type": "markdown",
   "metadata": {},
   "source": [
    "### High School"
   ]
  },
  {
   "cell_type": "code",
   "execution_count": 23,
   "metadata": {},
   "outputs": [
    {
     "name": "stdout",
     "output_type": "stream",
     "text": [
      "40.15471553190322\n"
     ]
    }
   ],
   "source": [
    "meets_grade_level_s = (dallas_staar_data_s['CA00AR04216N'].sum(skipna=True) / dallas_staar_data_s['CA00AR04217D'].sum(skipna=True)) * 100\n",
    "percentages_df.loc['Meets grade level', 'school_type_s'] = meets_grade_level_s\n",
    "print(meets_grade_level_s)"
   ]
  },
  {
   "cell_type": "markdown",
   "metadata": {},
   "source": [
    "## By Gender <a class=\"anchor\" id=\"meets_gender\"/>"
   ]
  },
  {
   "cell_type": "markdown",
   "metadata": {},
   "source": [
    "### Female"
   ]
  },
  {
   "cell_type": "code",
   "execution_count": 24,
   "metadata": {},
   "outputs": [
    {
     "data": {
      "text/plain": [
       "42.19817623002871"
      ]
     },
     "execution_count": 24,
     "metadata": {},
     "output_type": "execute_result"
    }
   ],
   "source": [
    "percentages_df.loc['Meets grade level', 'female'] = calculate_percentage('CF00AR04217N', 'CF00AR04217D')\n",
    "calculate_percentage('CF00AR04217N', 'CF00AR04217D')"
   ]
  },
  {
   "cell_type": "markdown",
   "metadata": {},
   "source": [
    "### Male"
   ]
  },
  {
   "cell_type": "code",
   "execution_count": 25,
   "metadata": {},
   "outputs": [
    {
     "data": {
      "text/plain": [
       "34.354811185060576"
      ]
     },
     "execution_count": 25,
     "metadata": {},
     "output_type": "execute_result"
    }
   ],
   "source": [
    "percentages_df.loc['Meets grade level', 'male'] = calculate_percentage('CM00AR04217N', 'CM00AR04217D')\n",
    "calculate_percentage('CM00AR04217N', 'CM00AR04217D')"
   ]
  },
  {
   "cell_type": "markdown",
   "metadata": {},
   "source": [
    "## By Race <a class=\"anchor\" id=\"meets_race\"/>"
   ]
  },
  {
   "cell_type": "markdown",
   "metadata": {},
   "source": [
    "### African-American"
   ]
  },
  {
   "cell_type": "code",
   "execution_count": 26,
   "metadata": {},
   "outputs": [
    {
     "data": {
      "text/plain": [
       "28.925369517809546"
      ]
     },
     "execution_count": 26,
     "metadata": {},
     "output_type": "execute_result"
    }
   ],
   "source": [
    "percentages_df.loc['Meets grade level', 'african american'] = calculate_percentage('CB00AR04217N', 'CB00AR04217D')\n",
    "calculate_percentage('CB00AR04217N', 'CB00AR04217D')"
   ]
  },
  {
   "cell_type": "markdown",
   "metadata": {},
   "source": [
    "### American Indian"
   ]
  },
  {
   "cell_type": "code",
   "execution_count": 27,
   "metadata": {},
   "outputs": [
    {
     "name": "stdout",
     "output_type": "stream",
     "text": [
      "Insufficient data to calculate percentage.\n"
     ]
    }
   ],
   "source": [
    "percentages_df.loc['Meets grade level', 'american indian'] = np.nan\n",
    "calculate_percentage('CI00AR04217N','CI00AR04217D')"
   ]
  },
  {
   "cell_type": "markdown",
   "metadata": {},
   "source": [
    "### Asian"
   ]
  },
  {
   "cell_type": "code",
   "execution_count": 28,
   "metadata": {},
   "outputs": [
    {
     "data": {
      "text/plain": [
       "66.66666666666666"
      ]
     },
     "execution_count": 28,
     "metadata": {},
     "output_type": "execute_result"
    }
   ],
   "source": [
    "percentages_df.loc['Meets grade level', 'asian'] = calculate_percentage('C300AR04217N', 'C300AR04217D')\n",
    "calculate_percentage('C300AR04217N', 'C300AR04217D')"
   ]
  },
  {
   "cell_type": "markdown",
   "metadata": {},
   "source": [
    "### Hispanic"
   ]
  },
  {
   "cell_type": "code",
   "execution_count": 29,
   "metadata": {},
   "outputs": [
    {
     "data": {
      "text/plain": [
       "38.34054197193044"
      ]
     },
     "execution_count": 29,
     "metadata": {},
     "output_type": "execute_result"
    }
   ],
   "source": [
    "percentages_df.loc['Meets grade level', 'hispanic'] = calculate_percentage('CH00AR04217N', 'CH00AR04217D')\n",
    "calculate_percentage('CH00AR04217N', 'CH00AR04217D')"
   ]
  },
  {
   "cell_type": "markdown",
   "metadata": {},
   "source": [
    "### Pacific Islander"
   ]
  },
  {
   "cell_type": "code",
   "execution_count": 30,
   "metadata": {},
   "outputs": [
    {
     "name": "stdout",
     "output_type": "stream",
     "text": [
      "Insufficient data to calculate percentage.\n"
     ]
    }
   ],
   "source": [
    "percentages_df.loc['Meets grade level', 'pacific islander'] = np.nan \n",
    "calculate_percentage('C400AR04217N', 'C400AR04217D')"
   ]
  },
  {
   "cell_type": "markdown",
   "metadata": {},
   "source": [
    "### Two or More Races"
   ]
  },
  {
   "cell_type": "code",
   "execution_count": 31,
   "metadata": {},
   "outputs": [
    {
     "data": {
      "text/plain": [
       "75.78125"
      ]
     },
     "execution_count": 31,
     "metadata": {},
     "output_type": "execute_result"
    }
   ],
   "source": [
    "percentages_df.loc['Meets grade level', 'two or more races'] = calculate_percentage('C200AR04217N', 'C200AR04217D')\n",
    "calculate_percentage('C200AR04217N', 'C200AR04217D')"
   ]
  },
  {
   "cell_type": "markdown",
   "metadata": {},
   "source": [
    "### White"
   ]
  },
  {
   "cell_type": "code",
   "execution_count": 32,
   "metadata": {},
   "outputs": [
    {
     "data": {
      "text/plain": [
       "76.21893677256999"
      ]
     },
     "execution_count": 32,
     "metadata": {},
     "output_type": "execute_result"
    }
   ],
   "source": [
    "percentages_df.loc['Meets grade level', 'white'] = calculate_percentage('CW00AR04217N', 'CW00AR04217D')\n",
    "calculate_percentage('CW00AR04217N', 'CW00AR04217D')"
   ]
  },
  {
   "cell_type": "markdown",
   "metadata": {},
   "source": [
    "# Graph <a class=\"anchor\" id=\"graphs\"/>"
   ]
  },
  {
   "cell_type": "code",
   "execution_count": 33,
   "metadata": {},
   "outputs": [
    {
     "data": {
      "image/png": "[encoded data removed]",
      "text/plain": [
       "<matplotlib.figure.Figure at 0x10f8c63c8>"
      ]
     },
     "metadata": {},
     "output_type": "display_data"
    }
   ],
   "source": [
    "approach = [approach_grade_level_e, approach_grade_level_m, approach_grade_level_s]\n",
    "meeting = [meets_grade_level_e, meets_grade_level_m, meets_grade_level_s]\n",
    "index_approach = np.arange(len(approach))\n",
    "\n",
    "fig, ax = plt.subplots()\n",
    "\n",
    "bar_width = 0.35\n",
    "opacity = 0.4\n",
    "#error_config = {'ecolor': '0.3'}\n",
    "\n",
    "group1 = ax.bar(index_approach, approach, bar_width,\n",
    "               alpha=opacity, color='b', label='Approaching Grade Level')\n",
    "\n",
    "group2 = ax.bar(index_approach+bar_width, meeting, bar_width,\n",
    "               alpha=opacity, color='r', label='Meets Grade Level')\n",
    "\n",
    "ax.set_xlabel('School Type')\n",
    "ax.set_ylabel('Percentage')\n",
    "ax.set_title('Percentage of Students Approaching or Meeting Grade Level - Reading')\n",
    "ax.set_xticks(index_approach + bar_width / 2)\n",
    "ax.set_xticklabels(('Elementary School', 'Middle School', 'High School'))\n",
    "ax.legend()\n",
    "\n",
    "fig.tight_layout()\n",
    "#plt.bar(index_approach, approach)\n",
    "plt.show()"
   ]
  },
  {
   "cell_type": "markdown",
   "metadata": {},
   "source": [
    "# Writeup <a class=\"anchor\" id=\"writeup\"/>"
   ]
  },
  {
   "cell_type": "markdown",
   "metadata": {},
   "source": [
    "## Data Wrangling\n",
    "For this project, while there was some data wrangling to do, the dataset overall was fairly clean. The '.' character signified `NaN`, which was dealt with using `na_values='.'` on pandas `read_excel()` function. A call to `describe()` indicated that once the `NaN` was handled the next step was the presence of negative numbers in the dataset, namely `-1` and `-3`. I learned early in my data science learning path to always keep in mind the units used and context around those units; so while a person can be negative in their outlook, its quite unlikely that a teacher has `-3` students. A call to `replace()` taking a list `[-1,-3]` replaced all of the offending values with `0`. This ensured that any counts would not be thrown off by negative numbers.\n",
    "\n"
   ]
  },
  {
   "cell_type": "markdown",
   "metadata": {},
   "source": [
    "## Table of Calculated Percentages\n",
    "Since I created a pandas DataFrame with the percentage values calculated above, I can use this as my table."
   ]
  },
  {
   "cell_type": "code",
   "execution_count": 34,
   "metadata": {},
   "outputs": [
    {
     "data": {
      "text/html": [
       "<div>\n",
       "<style>\n",
       "    .dataframe thead tr:only-child th {\n",
       "        text-align: right;\n",
       "    }\n",
       "\n",
       "    .dataframe thead th {\n",
       "        text-align: left;\n",
       "    }\n",
       "\n",
       "    .dataframe tbody tr th {\n",
       "        vertical-align: top;\n",
       "    }\n",
       "</style>\n",
       "<table border=\"1\" class=\"dataframe\">\n",
       "  <thead>\n",
       "    <tr style=\"text-align: right;\">\n",
       "      <th></th>\n",
       "      <th>overall</th>\n",
       "      <th>school_type_e</th>\n",
       "      <th>school_type_m</th>\n",
       "      <th>school_type_s</th>\n",
       "      <th>female</th>\n",
       "      <th>male</th>\n",
       "      <th>african american</th>\n",
       "      <th>american indian</th>\n",
       "      <th>asian</th>\n",
       "      <th>hispanic</th>\n",
       "      <th>pacific islander</th>\n",
       "      <th>two or more races</th>\n",
       "      <th>white</th>\n",
       "    </tr>\n",
       "  </thead>\n",
       "  <tbody>\n",
       "    <tr>\n",
       "      <th>Approaching grade level</th>\n",
       "      <td>62.9634</td>\n",
       "      <td>68.0628</td>\n",
       "      <td>64.535</td>\n",
       "      <td>55.1119</td>\n",
       "      <td>67.8372</td>\n",
       "      <td>58.4561</td>\n",
       "      <td>52.7959</td>\n",
       "      <td>59.2593</td>\n",
       "      <td>65.8257</td>\n",
       "      <td>64.3836</td>\n",
       "      <td>NaN</td>\n",
       "      <td>91.6667</td>\n",
       "      <td>86.7282</td>\n",
       "    </tr>\n",
       "    <tr>\n",
       "      <th>Meets grade level</th>\n",
       "      <td>34.0171</td>\n",
       "      <td>35.3781</td>\n",
       "      <td>28.3348</td>\n",
       "      <td>40.1547</td>\n",
       "      <td>42.1982</td>\n",
       "      <td>34.3548</td>\n",
       "      <td>28.9254</td>\n",
       "      <td>NaN</td>\n",
       "      <td>66.6667</td>\n",
       "      <td>38.3405</td>\n",
       "      <td>NaN</td>\n",
       "      <td>75.7812</td>\n",
       "      <td>76.2189</td>\n",
       "    </tr>\n",
       "  </tbody>\n",
       "</table>\n",
       "</div>"
      ],
      "text/plain": [
       "                         overall school_type_e school_type_m school_type_s  \\\n",
       "Approaching grade level  62.9634       68.0628        64.535       55.1119   \n",
       "Meets grade level        34.0171       35.3781       28.3348       40.1547   \n",
       "\n",
       "                          female     male african american american indian  \\\n",
       "Approaching grade level  67.8372  58.4561          52.7959         59.2593   \n",
       "Meets grade level        42.1982  34.3548          28.9254             NaN   \n",
       "\n",
       "                           asian hispanic pacific islander two or more races  \\\n",
       "Approaching grade level  65.8257  64.3836              NaN           91.6667   \n",
       "Meets grade level        66.6667  38.3405              NaN           75.7812   \n",
       "\n",
       "                           white  \n",
       "Approaching grade level  86.7282  \n",
       "Meets grade level        76.2189  "
      ]
     },
     "execution_count": 34,
     "metadata": {},
     "output_type": "execute_result"
    }
   ],
   "source": [
    "percentages_df"
   ]
  },
  {
   "cell_type": "markdown",
   "metadata": {},
   "source": [
    "## What is one thing that you learned while completing this performance task?"
   ]
  },
  {
   "cell_type": "markdown",
   "metadata": {},
   "source": [
    "From the data I learned that the gap between approaching grade level and meeting grade level was much wider than I would have suspected. My intuition was that there would be a gap, but no more than ten percentage points or so. From the data processing I learned that negative numbers in your data can have unintended side effects when calculating percentages."
   ]
  },
  {
   "cell_type": "markdown",
   "metadata": {},
   "source": [
    "## How did you identify that you needed to learn something, and how did you go about filling this gap in your knowledge?"
   ]
  },
  {
   "cell_type": "markdown",
   "metadata": {},
   "source": [
    "When I discovered that the negative values in the dataset were skewing my results I realized that I would need to figure out a way to replace the values with `NaN` or another value that didn't skew results. While I had a general sense of how to do this, searching Stack Overflow yielded the solution that I used, which was to call `replace()` on the dataframe and replace those values with `0`."
   ]
  },
  {
   "cell_type": "markdown",
   "metadata": {},
   "source": [
    "## Did you feel that 60 - 90 minutes was an adequate amount of time to complete this task? Why or why not?"
   ]
  },
  {
   "cell_type": "markdown",
   "metadata": {},
   "source": [
    "Given that this was a take home exercise, I probably spent more than 60-90 minutes working on it, however, had a strict time limit been enforced I think I would have been able to complete it without too much trouble. "
   ]
  }
 ],
 "metadata": {
  "kernelspec": {
   "display_name": "Python 3",
   "language": "python",
   "name": "python3"
  },
  "language_info": {
   "codemirror_mode": {
    "name": "ipython",
    "version": 3
   },
   "file_extension": ".py",
   "mimetype": "text/x-python",
   "name": "python",
   "nbconvert_exporter": "python",
   "pygments_lexer": "ipython3",
   "version": "3.6.1"
  }
 },
 "nbformat": 4,
 "nbformat_minor": 2
}
