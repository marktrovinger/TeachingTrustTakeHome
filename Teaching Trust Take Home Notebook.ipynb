{
 "cells": [
  {
   "cell_type": "markdown",
   "metadata": {},
   "source": [
    "# Teaching Trust Take Home Assignment"
   ]
  },
  {
   "cell_type": "code",
   "execution_count": 54,
   "metadata": {
    "collapsed": true
   },
   "outputs": [],
   "source": [
    "import pandas as pd\n",
    "import numpy as np\n",
    "import matplotlib.pyplot as plt\n",
    "%matplotlib inline\n",
    "import seaborn as sns"
   ]
  },
  {
   "cell_type": "code",
   "execution_count": 140,
   "metadata": {},
   "outputs": [
    {
     "data": {
      "text/html": [
       "<div>\n",
       "<style>\n",
       "    .dataframe thead tr:only-child th {\n",
       "        text-align: right;\n",
       "    }\n",
       "\n",
       "    .dataframe thead th {\n",
       "        text-align: left;\n",
       "    }\n",
       "\n",
       "    .dataframe tbody tr th {\n",
       "        vertical-align: top;\n",
       "    }\n",
       "</style>\n",
       "<table border=\"1\" class=\"dataframe\">\n",
       "  <thead>\n",
       "    <tr style=\"text-align: right;\">\n",
       "      <th></th>\n",
       "      <th>CAMPUS</th>\n",
       "      <th>CA00AR01016D</th>\n",
       "      <th>CA00AR01S16N</th>\n",
       "      <th>CB00AR01016D</th>\n",
       "      <th>CB00AR01S16N</th>\n",
       "      <th>CW00AR01016D</th>\n",
       "      <th>CW00AR01S16N</th>\n",
       "      <th>CH00AR01016D</th>\n",
       "      <th>CH00AR01S16N</th>\n",
       "      <th>CI00AR01016D</th>\n",
       "      <th>...</th>\n",
       "      <th>CI00AR03A17R</th>\n",
       "      <th>C200AR03A17R</th>\n",
       "      <th>C300AR03A17R</th>\n",
       "      <th>C400AR03A17R</th>\n",
       "      <th>CF00AR03A17R</th>\n",
       "      <th>CM00AR03A17R</th>\n",
       "      <th>CE00AR03A17R</th>\n",
       "      <th>CS00AR03A17R</th>\n",
       "      <th>CR00AR03A17R</th>\n",
       "      <th>CL00AR03A17R</th>\n",
       "    </tr>\n",
       "  </thead>\n",
       "  <tbody>\n",
       "    <tr>\n",
       "      <th>count</th>\n",
       "      <td>2.400000e+02</td>\n",
       "      <td>232.000000</td>\n",
       "      <td>232.000000</td>\n",
       "      <td>228.000000</td>\n",
       "      <td>228.00000</td>\n",
       "      <td>200.000000</td>\n",
       "      <td>200.000000</td>\n",
       "      <td>230.000000</td>\n",
       "      <td>230.000000</td>\n",
       "      <td>114.000000</td>\n",
       "      <td>...</td>\n",
       "      <td>109.0</td>\n",
       "      <td>144.000000</td>\n",
       "      <td>123.000000</td>\n",
       "      <td>31.0</td>\n",
       "      <td>227.000000</td>\n",
       "      <td>228.000000</td>\n",
       "      <td>230.000000</td>\n",
       "      <td>224.000000</td>\n",
       "      <td>230.000000</td>\n",
       "      <td>230.000000</td>\n",
       "    </tr>\n",
       "    <tr>\n",
       "      <th>mean</th>\n",
       "      <td>5.790516e+07</td>\n",
       "      <td>396.887931</td>\n",
       "      <td>250.000000</td>\n",
       "      <td>82.622807</td>\n",
       "      <td>45.02193</td>\n",
       "      <td>16.760000</td>\n",
       "      <td>14.670000</td>\n",
       "      <td>284.886957</td>\n",
       "      <td>181.982609</td>\n",
       "      <td>-0.859649</td>\n",
       "      <td>...</td>\n",
       "      <td>-1.0</td>\n",
       "      <td>3.708333</td>\n",
       "      <td>6.317073</td>\n",
       "      <td>-1.0</td>\n",
       "      <td>20.634361</td>\n",
       "      <td>15.736842</td>\n",
       "      <td>17.182609</td>\n",
       "      <td>2.089286</td>\n",
       "      <td>12.269565</td>\n",
       "      <td>14.391304</td>\n",
       "    </tr>\n",
       "    <tr>\n",
       "      <th>std</th>\n",
       "      <td>9.674570e+01</td>\n",
       "      <td>386.469026</td>\n",
       "      <td>220.787904</td>\n",
       "      <td>119.010782</td>\n",
       "      <td>58.96564</td>\n",
       "      <td>43.205043</td>\n",
       "      <td>40.504496</td>\n",
       "      <td>323.912929</td>\n",
       "      <td>189.724829</td>\n",
       "      <td>1.268245</td>\n",
       "      <td>...</td>\n",
       "      <td>0.0</td>\n",
       "      <td>18.998666</td>\n",
       "      <td>20.465211</td>\n",
       "      <td>0.0</td>\n",
       "      <td>14.408492</td>\n",
       "      <td>13.148794</td>\n",
       "      <td>12.252142</td>\n",
       "      <td>9.462272</td>\n",
       "      <td>10.133021</td>\n",
       "      <td>11.820119</td>\n",
       "    </tr>\n",
       "    <tr>\n",
       "      <th>min</th>\n",
       "      <td>5.790500e+07</td>\n",
       "      <td>0.000000</td>\n",
       "      <td>0.000000</td>\n",
       "      <td>-3.000000</td>\n",
       "      <td>-3.00000</td>\n",
       "      <td>-3.000000</td>\n",
       "      <td>-3.000000</td>\n",
       "      <td>-3.000000</td>\n",
       "      <td>-3.000000</td>\n",
       "      <td>-3.000000</td>\n",
       "      <td>...</td>\n",
       "      <td>-1.0</td>\n",
       "      <td>-1.000000</td>\n",
       "      <td>-1.000000</td>\n",
       "      <td>-1.0</td>\n",
       "      <td>-1.000000</td>\n",
       "      <td>-1.000000</td>\n",
       "      <td>-1.000000</td>\n",
       "      <td>-1.000000</td>\n",
       "      <td>-1.000000</td>\n",
       "      <td>-1.000000</td>\n",
       "    </tr>\n",
       "    <tr>\n",
       "      <th>25%</th>\n",
       "      <td>5.790507e+07</td>\n",
       "      <td>184.000000</td>\n",
       "      <td>129.500000</td>\n",
       "      <td>9.000000</td>\n",
       "      <td>6.00000</td>\n",
       "      <td>-1.000000</td>\n",
       "      <td>-1.000000</td>\n",
       "      <td>101.500000</td>\n",
       "      <td>72.250000</td>\n",
       "      <td>-1.000000</td>\n",
       "      <td>...</td>\n",
       "      <td>-1.0</td>\n",
       "      <td>-1.000000</td>\n",
       "      <td>-1.000000</td>\n",
       "      <td>-1.0</td>\n",
       "      <td>11.000000</td>\n",
       "      <td>7.000000</td>\n",
       "      <td>9.000000</td>\n",
       "      <td>-1.000000</td>\n",
       "      <td>4.000000</td>\n",
       "      <td>3.250000</td>\n",
       "    </tr>\n",
       "    <tr>\n",
       "      <th>50%</th>\n",
       "      <td>5.790516e+07</td>\n",
       "      <td>262.000000</td>\n",
       "      <td>177.500000</td>\n",
       "      <td>44.500000</td>\n",
       "      <td>23.50000</td>\n",
       "      <td>-1.000000</td>\n",
       "      <td>-1.000000</td>\n",
       "      <td>185.500000</td>\n",
       "      <td>130.000000</td>\n",
       "      <td>-1.000000</td>\n",
       "      <td>...</td>\n",
       "      <td>-1.0</td>\n",
       "      <td>-1.000000</td>\n",
       "      <td>-1.000000</td>\n",
       "      <td>-1.0</td>\n",
       "      <td>20.000000</td>\n",
       "      <td>14.000000</td>\n",
       "      <td>17.000000</td>\n",
       "      <td>-1.000000</td>\n",
       "      <td>13.000000</td>\n",
       "      <td>16.000000</td>\n",
       "    </tr>\n",
       "    <tr>\n",
       "      <th>75%</th>\n",
       "      <td>5.790523e+07</td>\n",
       "      <td>403.500000</td>\n",
       "      <td>261.500000</td>\n",
       "      <td>112.500000</td>\n",
       "      <td>63.00000</td>\n",
       "      <td>15.250000</td>\n",
       "      <td>11.250000</td>\n",
       "      <td>290.250000</td>\n",
       "      <td>203.250000</td>\n",
       "      <td>-1.000000</td>\n",
       "      <td>...</td>\n",
       "      <td>-1.0</td>\n",
       "      <td>-1.000000</td>\n",
       "      <td>-1.000000</td>\n",
       "      <td>-1.0</td>\n",
       "      <td>27.000000</td>\n",
       "      <td>22.000000</td>\n",
       "      <td>23.000000</td>\n",
       "      <td>-1.000000</td>\n",
       "      <td>18.000000</td>\n",
       "      <td>22.750000</td>\n",
       "    </tr>\n",
       "    <tr>\n",
       "      <th>max</th>\n",
       "      <td>5.790539e+07</td>\n",
       "      <td>3188.000000</td>\n",
       "      <td>1784.000000</td>\n",
       "      <td>797.000000</td>\n",
       "      <td>390.00000</td>\n",
       "      <td>286.000000</td>\n",
       "      <td>278.000000</td>\n",
       "      <td>2335.000000</td>\n",
       "      <td>1362.000000</td>\n",
       "      <td>9.000000</td>\n",
       "      <td>...</td>\n",
       "      <td>-1.0</td>\n",
       "      <td>100.000000</td>\n",
       "      <td>100.000000</td>\n",
       "      <td>-1.0</td>\n",
       "      <td>93.000000</td>\n",
       "      <td>79.000000</td>\n",
       "      <td>83.000000</td>\n",
       "      <td>73.000000</td>\n",
       "      <td>57.000000</td>\n",
       "      <td>56.000000</td>\n",
       "    </tr>\n",
       "  </tbody>\n",
       "</table>\n",
       "<p>8 rows × 253 columns</p>\n",
       "</div>"
      ],
      "text/plain": [
       "             CAMPUS  CA00AR01016D  CA00AR01S16N  CB00AR01016D  CB00AR01S16N  \\\n",
       "count  2.400000e+02    232.000000    232.000000    228.000000     228.00000   \n",
       "mean   5.790516e+07    396.887931    250.000000     82.622807      45.02193   \n",
       "std    9.674570e+01    386.469026    220.787904    119.010782      58.96564   \n",
       "min    5.790500e+07      0.000000      0.000000     -3.000000      -3.00000   \n",
       "25%    5.790507e+07    184.000000    129.500000      9.000000       6.00000   \n",
       "50%    5.790516e+07    262.000000    177.500000     44.500000      23.50000   \n",
       "75%    5.790523e+07    403.500000    261.500000    112.500000      63.00000   \n",
       "max    5.790539e+07   3188.000000   1784.000000    797.000000     390.00000   \n",
       "\n",
       "       CW00AR01016D  CW00AR01S16N  CH00AR01016D  CH00AR01S16N  CI00AR01016D  \\\n",
       "count    200.000000    200.000000    230.000000    230.000000    114.000000   \n",
       "mean      16.760000     14.670000    284.886957    181.982609     -0.859649   \n",
       "std       43.205043     40.504496    323.912929    189.724829      1.268245   \n",
       "min       -3.000000     -3.000000     -3.000000     -3.000000     -3.000000   \n",
       "25%       -1.000000     -1.000000    101.500000     72.250000     -1.000000   \n",
       "50%       -1.000000     -1.000000    185.500000    130.000000     -1.000000   \n",
       "75%       15.250000     11.250000    290.250000    203.250000     -1.000000   \n",
       "max      286.000000    278.000000   2335.000000   1362.000000      9.000000   \n",
       "\n",
       "           ...       CI00AR03A17R  C200AR03A17R  C300AR03A17R  C400AR03A17R  \\\n",
       "count      ...              109.0    144.000000    123.000000          31.0   \n",
       "mean       ...               -1.0      3.708333      6.317073          -1.0   \n",
       "std        ...                0.0     18.998666     20.465211           0.0   \n",
       "min        ...               -1.0     -1.000000     -1.000000          -1.0   \n",
       "25%        ...               -1.0     -1.000000     -1.000000          -1.0   \n",
       "50%        ...               -1.0     -1.000000     -1.000000          -1.0   \n",
       "75%        ...               -1.0     -1.000000     -1.000000          -1.0   \n",
       "max        ...               -1.0    100.000000    100.000000          -1.0   \n",
       "\n",
       "       CF00AR03A17R  CM00AR03A17R  CE00AR03A17R  CS00AR03A17R  CR00AR03A17R  \\\n",
       "count    227.000000    228.000000    230.000000    224.000000    230.000000   \n",
       "mean      20.634361     15.736842     17.182609      2.089286     12.269565   \n",
       "std       14.408492     13.148794     12.252142      9.462272     10.133021   \n",
       "min       -1.000000     -1.000000     -1.000000     -1.000000     -1.000000   \n",
       "25%       11.000000      7.000000      9.000000     -1.000000      4.000000   \n",
       "50%       20.000000     14.000000     17.000000     -1.000000     13.000000   \n",
       "75%       27.000000     22.000000     23.000000     -1.000000     18.000000   \n",
       "max       93.000000     79.000000     83.000000     73.000000     57.000000   \n",
       "\n",
       "       CL00AR03A17R  \n",
       "count    230.000000  \n",
       "mean      14.391304  \n",
       "std       11.820119  \n",
       "min       -1.000000  \n",
       "25%        3.250000  \n",
       "50%       16.000000  \n",
       "75%       22.750000  \n",
       "max       56.000000  \n",
       "\n",
       "[8 rows x 253 columns]"
      ]
     },
     "execution_count": 140,
     "metadata": {},
     "output_type": "execute_result"
    }
   ],
   "source": [
    "dallas_staar_data = pd.read_excel('data/Teaching Trust Jr. Data Scientist data subset.xlsx', na_values='.')\n",
    "dallas_staar_data.describe()"
   ]
  },
  {
   "cell_type": "code",
   "execution_count": 84,
   "metadata": {},
   "outputs": [
    {
     "data": {
      "text/html": [
       "<div>\n",
       "<style>\n",
       "    .dataframe thead tr:only-child th {\n",
       "        text-align: right;\n",
       "    }\n",
       "\n",
       "    .dataframe thead th {\n",
       "        text-align: left;\n",
       "    }\n",
       "\n",
       "    .dataframe tbody tr th {\n",
       "        vertical-align: top;\n",
       "    }\n",
       "</style>\n",
       "<table border=\"1\" class=\"dataframe\">\n",
       "  <thead>\n",
       "    <tr style=\"text-align: right;\">\n",
       "      <th></th>\n",
       "      <th>CAMPUS</th>\n",
       "      <th>CA00AR01016D</th>\n",
       "      <th>CA00AR01S16N</th>\n",
       "      <th>CB00AR01016D</th>\n",
       "      <th>CB00AR01S16N</th>\n",
       "      <th>CW00AR01016D</th>\n",
       "      <th>CW00AR01S16N</th>\n",
       "      <th>CH00AR01016D</th>\n",
       "      <th>CH00AR01S16N</th>\n",
       "      <th>CI00AR01016D</th>\n",
       "      <th>...</th>\n",
       "      <th>CI00AR03A17R</th>\n",
       "      <th>C200AR03A17R</th>\n",
       "      <th>C300AR03A17R</th>\n",
       "      <th>C400AR03A17R</th>\n",
       "      <th>CF00AR03A17R</th>\n",
       "      <th>CM00AR03A17R</th>\n",
       "      <th>CE00AR03A17R</th>\n",
       "      <th>CS00AR03A17R</th>\n",
       "      <th>CR00AR03A17R</th>\n",
       "      <th>CL00AR03A17R</th>\n",
       "    </tr>\n",
       "  </thead>\n",
       "  <tbody>\n",
       "    <tr>\n",
       "      <th>count</th>\n",
       "      <td>2.400000e+02</td>\n",
       "      <td>232.000000</td>\n",
       "      <td>232.000000</td>\n",
       "      <td>228.000000</td>\n",
       "      <td>228.000000</td>\n",
       "      <td>200.000000</td>\n",
       "      <td>200.000000</td>\n",
       "      <td>230.00000</td>\n",
       "      <td>230.000000</td>\n",
       "      <td>114.000000</td>\n",
       "      <td>...</td>\n",
       "      <td>109.0</td>\n",
       "      <td>144.000000</td>\n",
       "      <td>123.000000</td>\n",
       "      <td>31.0</td>\n",
       "      <td>227.000000</td>\n",
       "      <td>228.000000</td>\n",
       "      <td>230.000000</td>\n",
       "      <td>224.000000</td>\n",
       "      <td>230.000000</td>\n",
       "      <td>230.000000</td>\n",
       "    </tr>\n",
       "    <tr>\n",
       "      <th>mean</th>\n",
       "      <td>5.790516e+07</td>\n",
       "      <td>396.887931</td>\n",
       "      <td>250.000000</td>\n",
       "      <td>83.008772</td>\n",
       "      <td>45.407895</td>\n",
       "      <td>17.440000</td>\n",
       "      <td>15.350000</td>\n",
       "      <td>285.03913</td>\n",
       "      <td>182.134783</td>\n",
       "      <td>0.166667</td>\n",
       "      <td>...</td>\n",
       "      <td>0.0</td>\n",
       "      <td>4.645833</td>\n",
       "      <td>7.178862</td>\n",
       "      <td>0.0</td>\n",
       "      <td>20.687225</td>\n",
       "      <td>15.837719</td>\n",
       "      <td>17.230435</td>\n",
       "      <td>2.924107</td>\n",
       "      <td>12.417391</td>\n",
       "      <td>14.595652</td>\n",
       "    </tr>\n",
       "    <tr>\n",
       "      <th>std</th>\n",
       "      <td>9.674570e+01</td>\n",
       "      <td>386.469026</td>\n",
       "      <td>220.787904</td>\n",
       "      <td>118.736965</td>\n",
       "      <td>58.660040</td>\n",
       "      <td>42.922232</td>\n",
       "      <td>40.238204</td>\n",
       "      <td>323.77776</td>\n",
       "      <td>189.576946</td>\n",
       "      <td>1.063611</td>\n",
       "      <td>...</td>\n",
       "      <td>0.0</td>\n",
       "      <td>18.764819</td>\n",
       "      <td>20.155149</td>\n",
       "      <td>0.0</td>\n",
       "      <td>14.330300</td>\n",
       "      <td>13.022684</td>\n",
       "      <td>12.182525</td>\n",
       "      <td>9.191951</td>\n",
       "      <td>9.943054</td>\n",
       "      <td>11.556846</td>\n",
       "    </tr>\n",
       "    <tr>\n",
       "      <th>min</th>\n",
       "      <td>5.790500e+07</td>\n",
       "      <td>0.000000</td>\n",
       "      <td>0.000000</td>\n",
       "      <td>0.000000</td>\n",
       "      <td>0.000000</td>\n",
       "      <td>0.000000</td>\n",
       "      <td>0.000000</td>\n",
       "      <td>0.00000</td>\n",
       "      <td>0.000000</td>\n",
       "      <td>0.000000</td>\n",
       "      <td>...</td>\n",
       "      <td>0.0</td>\n",
       "      <td>0.000000</td>\n",
       "      <td>0.000000</td>\n",
       "      <td>0.0</td>\n",
       "      <td>0.000000</td>\n",
       "      <td>0.000000</td>\n",
       "      <td>0.000000</td>\n",
       "      <td>0.000000</td>\n",
       "      <td>0.000000</td>\n",
       "      <td>0.000000</td>\n",
       "    </tr>\n",
       "    <tr>\n",
       "      <th>25%</th>\n",
       "      <td>5.790507e+07</td>\n",
       "      <td>184.000000</td>\n",
       "      <td>129.500000</td>\n",
       "      <td>9.000000</td>\n",
       "      <td>6.000000</td>\n",
       "      <td>0.000000</td>\n",
       "      <td>0.000000</td>\n",
       "      <td>101.50000</td>\n",
       "      <td>72.250000</td>\n",
       "      <td>0.000000</td>\n",
       "      <td>...</td>\n",
       "      <td>0.0</td>\n",
       "      <td>0.000000</td>\n",
       "      <td>0.000000</td>\n",
       "      <td>0.0</td>\n",
       "      <td>11.000000</td>\n",
       "      <td>7.000000</td>\n",
       "      <td>9.000000</td>\n",
       "      <td>0.000000</td>\n",
       "      <td>4.000000</td>\n",
       "      <td>3.250000</td>\n",
       "    </tr>\n",
       "    <tr>\n",
       "      <th>50%</th>\n",
       "      <td>5.790516e+07</td>\n",
       "      <td>262.000000</td>\n",
       "      <td>177.500000</td>\n",
       "      <td>44.500000</td>\n",
       "      <td>23.500000</td>\n",
       "      <td>0.000000</td>\n",
       "      <td>0.000000</td>\n",
       "      <td>185.50000</td>\n",
       "      <td>130.000000</td>\n",
       "      <td>0.000000</td>\n",
       "      <td>...</td>\n",
       "      <td>0.0</td>\n",
       "      <td>0.000000</td>\n",
       "      <td>0.000000</td>\n",
       "      <td>0.0</td>\n",
       "      <td>20.000000</td>\n",
       "      <td>14.000000</td>\n",
       "      <td>17.000000</td>\n",
       "      <td>0.000000</td>\n",
       "      <td>13.000000</td>\n",
       "      <td>16.000000</td>\n",
       "    </tr>\n",
       "    <tr>\n",
       "      <th>75%</th>\n",
       "      <td>5.790523e+07</td>\n",
       "      <td>403.500000</td>\n",
       "      <td>261.500000</td>\n",
       "      <td>112.500000</td>\n",
       "      <td>63.000000</td>\n",
       "      <td>15.250000</td>\n",
       "      <td>11.250000</td>\n",
       "      <td>290.25000</td>\n",
       "      <td>203.250000</td>\n",
       "      <td>0.000000</td>\n",
       "      <td>...</td>\n",
       "      <td>0.0</td>\n",
       "      <td>0.000000</td>\n",
       "      <td>0.000000</td>\n",
       "      <td>0.0</td>\n",
       "      <td>27.000000</td>\n",
       "      <td>22.000000</td>\n",
       "      <td>23.000000</td>\n",
       "      <td>0.000000</td>\n",
       "      <td>18.000000</td>\n",
       "      <td>22.750000</td>\n",
       "    </tr>\n",
       "    <tr>\n",
       "      <th>max</th>\n",
       "      <td>5.790539e+07</td>\n",
       "      <td>3188.000000</td>\n",
       "      <td>1784.000000</td>\n",
       "      <td>797.000000</td>\n",
       "      <td>390.000000</td>\n",
       "      <td>286.000000</td>\n",
       "      <td>278.000000</td>\n",
       "      <td>2335.00000</td>\n",
       "      <td>1362.000000</td>\n",
       "      <td>9.000000</td>\n",
       "      <td>...</td>\n",
       "      <td>0.0</td>\n",
       "      <td>100.000000</td>\n",
       "      <td>100.000000</td>\n",
       "      <td>0.0</td>\n",
       "      <td>93.000000</td>\n",
       "      <td>79.000000</td>\n",
       "      <td>83.000000</td>\n",
       "      <td>73.000000</td>\n",
       "      <td>57.000000</td>\n",
       "      <td>56.000000</td>\n",
       "    </tr>\n",
       "  </tbody>\n",
       "</table>\n",
       "<p>8 rows × 253 columns</p>\n",
       "</div>"
      ],
      "text/plain": [
       "             CAMPUS  CA00AR01016D  CA00AR01S16N  CB00AR01016D  CB00AR01S16N  \\\n",
       "count  2.400000e+02    232.000000    232.000000    228.000000    228.000000   \n",
       "mean   5.790516e+07    396.887931    250.000000     83.008772     45.407895   \n",
       "std    9.674570e+01    386.469026    220.787904    118.736965     58.660040   \n",
       "min    5.790500e+07      0.000000      0.000000      0.000000      0.000000   \n",
       "25%    5.790507e+07    184.000000    129.500000      9.000000      6.000000   \n",
       "50%    5.790516e+07    262.000000    177.500000     44.500000     23.500000   \n",
       "75%    5.790523e+07    403.500000    261.500000    112.500000     63.000000   \n",
       "max    5.790539e+07   3188.000000   1784.000000    797.000000    390.000000   \n",
       "\n",
       "       CW00AR01016D  CW00AR01S16N  CH00AR01016D  CH00AR01S16N  CI00AR01016D  \\\n",
       "count    200.000000    200.000000     230.00000    230.000000    114.000000   \n",
       "mean      17.440000     15.350000     285.03913    182.134783      0.166667   \n",
       "std       42.922232     40.238204     323.77776    189.576946      1.063611   \n",
       "min        0.000000      0.000000       0.00000      0.000000      0.000000   \n",
       "25%        0.000000      0.000000     101.50000     72.250000      0.000000   \n",
       "50%        0.000000      0.000000     185.50000    130.000000      0.000000   \n",
       "75%       15.250000     11.250000     290.25000    203.250000      0.000000   \n",
       "max      286.000000    278.000000    2335.00000   1362.000000      9.000000   \n",
       "\n",
       "           ...       CI00AR03A17R  C200AR03A17R  C300AR03A17R  C400AR03A17R  \\\n",
       "count      ...              109.0    144.000000    123.000000          31.0   \n",
       "mean       ...                0.0      4.645833      7.178862           0.0   \n",
       "std        ...                0.0     18.764819     20.155149           0.0   \n",
       "min        ...                0.0      0.000000      0.000000           0.0   \n",
       "25%        ...                0.0      0.000000      0.000000           0.0   \n",
       "50%        ...                0.0      0.000000      0.000000           0.0   \n",
       "75%        ...                0.0      0.000000      0.000000           0.0   \n",
       "max        ...                0.0    100.000000    100.000000           0.0   \n",
       "\n",
       "       CF00AR03A17R  CM00AR03A17R  CE00AR03A17R  CS00AR03A17R  CR00AR03A17R  \\\n",
       "count    227.000000    228.000000    230.000000    224.000000    230.000000   \n",
       "mean      20.687225     15.837719     17.230435      2.924107     12.417391   \n",
       "std       14.330300     13.022684     12.182525      9.191951      9.943054   \n",
       "min        0.000000      0.000000      0.000000      0.000000      0.000000   \n",
       "25%       11.000000      7.000000      9.000000      0.000000      4.000000   \n",
       "50%       20.000000     14.000000     17.000000      0.000000     13.000000   \n",
       "75%       27.000000     22.000000     23.000000      0.000000     18.000000   \n",
       "max       93.000000     79.000000     83.000000     73.000000     57.000000   \n",
       "\n",
       "       CL00AR03A17R  \n",
       "count    230.000000  \n",
       "mean      14.595652  \n",
       "std       11.556846  \n",
       "min        0.000000  \n",
       "25%        3.250000  \n",
       "50%       16.000000  \n",
       "75%       22.750000  \n",
       "max       56.000000  \n",
       "\n",
       "[8 rows x 253 columns]"
      ]
     },
     "execution_count": 84,
     "metadata": {},
     "output_type": "execute_result"
    }
   ],
   "source": [
    "dallas_staar_data = dallas_staar_data.replace([-1,-3], 0)\n",
    "dallas_staar_data.describe()"
   ]
  },
  {
   "cell_type": "code",
   "execution_count": 85,
   "metadata": {
    "collapsed": true
   },
   "outputs": [],
   "source": [
    "def calculate_percentage(column1, column2):\n",
    "    if(dallas_staar_data[column1].sum() == 0 or dallas_staar_data[column2].sum() == 0):\n",
    "        print(\"Insufficient data to calculate percentage.\")\n",
    "    else:\n",
    "        return(dallas_staar_data[column1].sum() / dallas_staar_data[column2].sum() * 100)"
   ]
  },
  {
   "cell_type": "markdown",
   "metadata": {},
   "source": [
    "# Approaching Grade Level"
   ]
  },
  {
   "cell_type": "markdown",
   "metadata": {},
   "source": [
    "## Overall"
   ]
  },
  {
   "cell_type": "markdown",
   "metadata": {},
   "source": [
    "For the approaching grade level portion, I looked the list of columns described in the [document](https://rptsvr1.tea.texas.gov/perfreport/tapr/2017/download/campstaar2a.html) relating to approaching grade level. The first part asks for the overall percentage of students whose STAAR reading scores are approaching grade level, for this I used the columns CA00AR01017D and CA00AR01S17N."
   ]
  },
  {
   "cell_type": "code",
   "execution_count": 88,
   "metadata": {},
   "outputs": [
    {
     "name": "stdout",
     "output_type": "stream",
     "text": [
      "62.963442810563365\n"
     ]
    }
   ],
   "source": [
    "calculate_percentage('CA00AR01S17N', 'CA00AR01017D')"
   ]
  },
  {
   "cell_type": "markdown",
   "metadata": {},
   "source": [
    "## By Grade Level"
   ]
  },
  {
   "cell_type": "markdown",
   "metadata": {},
   "source": [
    "The next portion breaks down the percentage of students approaching grade level into three categories: Elementary (E), Middle (M), and High School (S). To do this, three new dataframes were created, one for each grade level."
   ]
  },
  {
   "cell_type": "code",
   "execution_count": 14,
   "metadata": {},
   "outputs": [],
   "source": [
    "dallas_staar_data_e = dallas_staar_data[dallas_staar_data['GRDTYPE'] == 'E']\n",
    "dallas_staar_data_m = dallas_staar_data[dallas_staar_data['GRDTYPE'] == 'M']\n",
    "dallas_staar_data_s = dallas_staar_data[dallas_staar_data['GRDTYPE'] == 'S']"
   ]
  },
  {
   "cell_type": "markdown",
   "metadata": {},
   "source": [
    "With the three new dataframes populated, we can use the same columns that were used for the overall percentage."
   ]
  },
  {
   "cell_type": "code",
   "execution_count": 98,
   "metadata": {},
   "outputs": [
    {
     "name": "stdout",
     "output_type": "stream",
     "text": [
      "68.06284207242719\n"
     ]
    }
   ],
   "source": [
    "approach_grade_level_e = (dallas_staar_data_e['CA00AR01S17N'].sum(skipna=True) / dallas_staar_data_e['CA00AR01017D'].sum(skipna=True)) * 100\n",
    "print(approach_grade_level_e)"
   ]
  },
  {
   "cell_type": "code",
   "execution_count": 99,
   "metadata": {},
   "outputs": [
    {
     "name": "stdout",
     "output_type": "stream",
     "text": [
      "64.53500522466041\n"
     ]
    }
   ],
   "source": [
    "approach_grade_level_m = (dallas_staar_data_m['CA00AR01S17N'].sum(skipna=True) / dallas_staar_data_m['CA00AR01017D'].sum(skipna=True)) * 100\n",
    "print(approach_grade_level_m)"
   ]
  },
  {
   "cell_type": "code",
   "execution_count": 100,
   "metadata": {},
   "outputs": [
    {
     "name": "stdout",
     "output_type": "stream",
     "text": [
      "55.1118712695033\n"
     ]
    }
   ],
   "source": [
    "approach_grade_level_s = (dallas_staar_data_s['CA00AR01S17N'].sum(skipna=True) / dallas_staar_data_s['CA00AR01017D'].sum(skipna=True)) * 100\n",
    "print(approach_grade_level_s)"
   ]
  },
  {
   "cell_type": "markdown",
   "metadata": {},
   "source": [
    "## By Gender"
   ]
  },
  {
   "cell_type": "markdown",
   "metadata": {},
   "source": [
    "For the gender percentage, we can use the original dataframe, instead of creating new dataframes."
   ]
  },
  {
   "cell_type": "markdown",
   "metadata": {},
   "source": [
    "### Female "
   ]
  },
  {
   "cell_type": "code",
   "execution_count": 117,
   "metadata": {},
   "outputs": [
    {
     "data": {
      "text/plain": [
       "67.83724274287769"
      ]
     },
     "execution_count": 117,
     "metadata": {},
     "output_type": "execute_result"
    }
   ],
   "source": [
    "calculate_percentage('CF00AR01S17N', 'CF00AR01017D')"
   ]
  },
  {
   "cell_type": "markdown",
   "metadata": {},
   "source": [
    "### Male"
   ]
  },
  {
   "cell_type": "code",
   "execution_count": 118,
   "metadata": {},
   "outputs": [
    {
     "data": {
      "text/plain": [
       "58.4561345166587"
      ]
     },
     "execution_count": 118,
     "metadata": {},
     "output_type": "execute_result"
    }
   ],
   "source": [
    "calculate_percentage('CM00AR01S17N', 'CM00AR01017D')"
   ]
  },
  {
   "cell_type": "markdown",
   "metadata": {},
   "source": [
    "## By Race"
   ]
  },
  {
   "cell_type": "markdown",
   "metadata": {},
   "source": [
    "Similarly to gender, we can use the original dataframe, but different columns will be used for each calculation."
   ]
  },
  {
   "cell_type": "markdown",
   "metadata": {},
   "source": [
    "### African-American"
   ]
  },
  {
   "cell_type": "code",
   "execution_count": 119,
   "metadata": {},
   "outputs": [
    {
     "data": {
      "text/plain": [
       "52.795933188090046"
      ]
     },
     "execution_count": 119,
     "metadata": {},
     "output_type": "execute_result"
    }
   ],
   "source": [
    "calculate_percentage('CB00AR01S17N', 'CB00AR01017D')"
   ]
  },
  {
   "cell_type": "markdown",
   "metadata": {},
   "source": [
    "### American Indian"
   ]
  },
  {
   "cell_type": "code",
   "execution_count": 120,
   "metadata": {},
   "outputs": [
    {
     "data": {
      "text/plain": [
       "59.25925925925925"
      ]
     },
     "execution_count": 120,
     "metadata": {},
     "output_type": "execute_result"
    }
   ],
   "source": [
    "calculate_percentage('CI00AR01S17N', 'CI00AR01017D')"
   ]
  },
  {
   "cell_type": "markdown",
   "metadata": {},
   "source": [
    "### Asian"
   ]
  },
  {
   "cell_type": "code",
   "execution_count": 112,
   "metadata": {},
   "outputs": [
    {
     "data": {
      "text/plain": [
       "65.82568807339449"
      ]
     },
     "execution_count": 112,
     "metadata": {},
     "output_type": "execute_result"
    }
   ],
   "source": [
    "calculate_percentage('C300AR01S17N', 'C300AR01017D')"
   ]
  },
  {
   "cell_type": "markdown",
   "metadata": {},
   "source": [
    "### Hispanic"
   ]
  },
  {
   "cell_type": "code",
   "execution_count": 121,
   "metadata": {},
   "outputs": [
    {
     "data": {
      "text/plain": [
       "64.38358242925423"
      ]
     },
     "execution_count": 121,
     "metadata": {},
     "output_type": "execute_result"
    }
   ],
   "source": [
    "calculate_percentage('CH00AR01S17N', 'CH00AR01017D')"
   ]
  },
  {
   "cell_type": "markdown",
   "metadata": {},
   "source": [
    "### Pacific Islander"
   ]
  },
  {
   "cell_type": "code",
   "execution_count": 122,
   "metadata": {},
   "outputs": [
    {
     "name": "stdout",
     "output_type": "stream",
     "text": [
      "Insufficient data to calculate percentage.\n"
     ]
    }
   ],
   "source": [
    "calculate_percentage('C400AR01S17N', 'C400AR01017D')"
   ]
  },
  {
   "cell_type": "markdown",
   "metadata": {},
   "source": [
    "### Two or More Races"
   ]
  },
  {
   "cell_type": "code",
   "execution_count": 134,
   "metadata": {},
   "outputs": [
    {
     "data": {
      "text/plain": [
       "91.66666666666666"
      ]
     },
     "execution_count": 134,
     "metadata": {},
     "output_type": "execute_result"
    }
   ],
   "source": [
    "calculate_percentage('C200AR01S17N', 'C200AR01017D')"
   ]
  },
  {
   "cell_type": "markdown",
   "metadata": {},
   "source": [
    "### White"
   ]
  },
  {
   "cell_type": "code",
   "execution_count": 127,
   "metadata": {},
   "outputs": [
    {
     "data": {
      "text/plain": [
       "86.72821696480092"
      ]
     },
     "execution_count": 127,
     "metadata": {},
     "output_type": "execute_result"
    }
   ],
   "source": [
    "calculate_percentage('CW00AR01S17N', 'CW00AR01017D')"
   ]
  },
  {
   "cell_type": "markdown",
   "metadata": {},
   "source": [
    "# Meets Grade Level"
   ]
  },
  {
   "cell_type": "markdown",
   "metadata": {},
   "source": [
    "## Overall"
   ]
  },
  {
   "cell_type": "code",
   "execution_count": 141,
   "metadata": {},
   "outputs": [
    {
     "data": {
      "text/plain": [
       "34.0154502593703"
      ]
     },
     "execution_count": 141,
     "metadata": {},
     "output_type": "execute_result"
    }
   ],
   "source": [
    "calculate_percentage('CA00AR04216N', 'CA00AR04217D')"
   ]
  },
  {
   "cell_type": "markdown",
   "metadata": {},
   "source": [
    "## By Grade Level"
   ]
  },
  {
   "cell_type": "markdown",
   "metadata": {},
   "source": [
    "### Elementary School"
   ]
  },
  {
   "cell_type": "code",
   "execution_count": 101,
   "metadata": {},
   "outputs": [
    {
     "name": "stdout",
     "output_type": "stream",
     "text": [
      "35.378060524703066\n"
     ]
    }
   ],
   "source": [
    "meets_grade_level_e = (dallas_staar_data_e['CA00AR04216N'].sum(skipna=True) / dallas_staar_data_e['CA00AR04217D'].sum(skipna=True)) * 100\n",
    "print(meets_grade_level_e)"
   ]
  },
  {
   "cell_type": "markdown",
   "metadata": {},
   "source": [
    "### Middle School"
   ]
  },
  {
   "cell_type": "code",
   "execution_count": 102,
   "metadata": {},
   "outputs": [
    {
     "name": "stdout",
     "output_type": "stream",
     "text": [
      "28.335842833584284\n"
     ]
    }
   ],
   "source": [
    "meets_grade_level_m = (dallas_staar_data_m['CA00AR04216N'].sum(skipna=True) / dallas_staar_data_m['CA00AR04217D'].sum(skipna=True)) * 100\n",
    "print(meets_grade_level_m)"
   ]
  },
  {
   "cell_type": "markdown",
   "metadata": {},
   "source": [
    "### High School"
   ]
  },
  {
   "cell_type": "code",
   "execution_count": 103,
   "metadata": {},
   "outputs": [
    {
     "name": "stdout",
     "output_type": "stream",
     "text": [
      "40.15143202019094\n"
     ]
    }
   ],
   "source": [
    "meets_grade_level_s = (dallas_staar_data_s['CA00AR04216N'].sum(skipna=True) / dallas_staar_data_s['CA00AR04217D'].sum(skipna=True)) * 100\n",
    "print(meets_grade_level_s)"
   ]
  },
  {
   "cell_type": "markdown",
   "metadata": {},
   "source": [
    "## By Gender"
   ]
  },
  {
   "cell_type": "markdown",
   "metadata": {},
   "source": [
    "### Female"
   ]
  },
  {
   "cell_type": "code",
   "execution_count": 105,
   "metadata": {},
   "outputs": [
    {
     "data": {
      "text/plain": [
       "42.19817623002871"
      ]
     },
     "execution_count": 105,
     "metadata": {},
     "output_type": "execute_result"
    }
   ],
   "source": [
    "calculate_percentage('CF00AR04217N', 'CF00AR04217D')"
   ]
  },
  {
   "cell_type": "markdown",
   "metadata": {},
   "source": [
    "### Male"
   ]
  },
  {
   "cell_type": "code",
   "execution_count": 142,
   "metadata": {},
   "outputs": [
    {
     "data": {
      "text/plain": [
       "34.35000975229179"
      ]
     },
     "execution_count": 142,
     "metadata": {},
     "output_type": "execute_result"
    }
   ],
   "source": [
    "calculate_percentage('CM00AR04217N', 'CM00AR04217D')"
   ]
  },
  {
   "cell_type": "markdown",
   "metadata": {},
   "source": [
    "## By Race"
   ]
  },
  {
   "cell_type": "markdown",
   "metadata": {},
   "source": [
    "### African-American"
   ]
  },
  {
   "cell_type": "code",
   "execution_count": 136,
   "metadata": {},
   "outputs": [
    {
     "data": {
      "text/plain": [
       "28.925369517809546"
      ]
     },
     "execution_count": 136,
     "metadata": {},
     "output_type": "execute_result"
    }
   ],
   "source": [
    "calculate_percentage('CB00AR04217N', 'CB00AR04217D')"
   ]
  },
  {
   "cell_type": "markdown",
   "metadata": {},
   "source": [
    "### American Indian"
   ]
  },
  {
   "cell_type": "code",
   "execution_count": 94,
   "metadata": {},
   "outputs": [
    {
     "name": "stdout",
     "output_type": "stream",
     "text": [
      "Insufficient data to calculate percentage.\n"
     ]
    }
   ],
   "source": [
    "calculate_percentage('CI00AR04217N','CI00AR04217D')"
   ]
  },
  {
   "cell_type": "markdown",
   "metadata": {},
   "source": [
    "### Asian"
   ]
  },
  {
   "cell_type": "code",
   "execution_count": 108,
   "metadata": {},
   "outputs": [
    {
     "data": {
      "text/plain": [
       "66.66666666666666"
      ]
     },
     "execution_count": 108,
     "metadata": {},
     "output_type": "execute_result"
    }
   ],
   "source": [
    "calculate_percentage('C300AR04217N', 'C300AR04217D')"
   ]
  },
  {
   "cell_type": "markdown",
   "metadata": {},
   "source": [
    "### Hispanic"
   ]
  },
  {
   "cell_type": "code",
   "execution_count": 109,
   "metadata": {},
   "outputs": [
    {
     "data": {
      "text/plain": [
       "38.34054197193044"
      ]
     },
     "execution_count": 109,
     "metadata": {},
     "output_type": "execute_result"
    }
   ],
   "source": [
    "calculate_percentage('CH00AR04217N', 'CH00AR04217D')"
   ]
  },
  {
   "cell_type": "markdown",
   "metadata": {},
   "source": [
    "### Pacific Islander"
   ]
  },
  {
   "cell_type": "code",
   "execution_count": 95,
   "metadata": {},
   "outputs": [
    {
     "name": "stdout",
     "output_type": "stream",
     "text": [
      "Insufficient data to calculate percentage.\n"
     ]
    }
   ],
   "source": [
    "calculate_percentage('C400AR04217N', 'C400AR04217D')"
   ]
  },
  {
   "cell_type": "markdown",
   "metadata": {},
   "source": [
    "### Two or More Races"
   ]
  },
  {
   "cell_type": "code",
   "execution_count": 96,
   "metadata": {},
   "outputs": [
    {
     "data": {
      "text/plain": [
       "75.78125"
      ]
     },
     "execution_count": 96,
     "metadata": {},
     "output_type": "execute_result"
    }
   ],
   "source": [
    "calculate_percentage('C200AR04217N', 'C200AR04217D')"
   ]
  },
  {
   "cell_type": "markdown",
   "metadata": {},
   "source": [
    "### White"
   ]
  },
  {
   "cell_type": "code",
   "execution_count": 97,
   "metadata": {},
   "outputs": [
    {
     "data": {
      "text/plain": [
       "76.21893677256999"
      ]
     },
     "execution_count": 97,
     "metadata": {},
     "output_type": "execute_result"
    }
   ],
   "source": [
    "calculate_percentage('CW00AR04217N', 'CW00AR04217D')"
   ]
  },
  {
   "cell_type": "markdown",
   "metadata": {},
   "source": [
    "# Graphs"
   ]
  },
  {
   "cell_type": "code",
   "execution_count": 114,
   "metadata": {},
   "outputs": [
    {
     "data": {
      "image/png": "[encoded data removed]",
      "text/plain": [
       "<matplotlib.figure.Figure at 0x110a35a58>"
      ]
     },
     "metadata": {},
     "output_type": "display_data"
    }
   ],
   "source": [
    "approach = [approach_grade_level_e, approach_grade_level_m, approach_grade_level_s]\n",
    "meeting = [meets_grade_level_e, meets_grade_level_m, meets_grade_level_s]\n",
    "index_approach = np.arange(len(approach))\n",
    "\n",
    "fig, ax = plt.subplots()\n",
    "\n",
    "bar_width = 0.35\n",
    "opacity = 0.4\n",
    "#error_config = {'ecolor': '0.3'}\n",
    "\n",
    "group1 = ax.bar(index_approach, approach, bar_width,\n",
    "               alpha=opacity, color='b', label='Approaching Grade Level')\n",
    "\n",
    "group2 = ax.bar(index_approach+bar_width, meeting, bar_width,\n",
    "               alpha=opacity, color='r', label='Meets Grade Level')\n",
    "\n",
    "ax.set_xlabel('School Type')\n",
    "ax.set_ylabel('Percentage')\n",
    "ax.set_title('Percentage of Students Approaching or Meeting Grade Level - Reading')\n",
    "ax.set_xticks(index_approach + bar_width / 2)\n",
    "ax.set_xticklabels(('Elementary School', 'Middle School', 'High School'))\n",
    "ax.legend()\n",
    "\n",
    "fig.tight_layout()\n",
    "#plt.bar(index_approach, approach)\n",
    "plt.show()"
   ]
  },
  {
   "cell_type": "markdown",
   "metadata": {},
   "source": [
    "# Writeup"
   ]
  },
  {
   "cell_type": "markdown",
   "metadata": {},
   "source": [
    "## Data Wrangling\n",
    "For this project, while there was some data wrangling to do, the dataset overall was fairly clean. The '.' character signified `NaN`, which was dealt with using `na_values='.'` on pandas `read_excel()` function. A call to `describe()` indicated that once the `NaN` was handled the next step was the presence of negative numbers in the dataset, namely `-1` and `-3`. I learned early in my data science learning path to always keep in mind the units used and context around those units; so while a person can be negative in their outlook, its quite unlikely that a teacher has `-3` students. A call to `replace()` taking a list `[-1,-3]` replaced all of the offending values with `0`. This ensured that any counts would not be thrown off by negative numbers.\n",
    "\n"
   ]
  },
  {
   "cell_type": "markdown",
   "metadata": {},
   "source": [
    "## Table of Calculated Percentages\n"
   ]
  },
  {
   "cell_type": "markdown",
   "metadata": {},
   "source": [
    "## What is one thing that you learned while completing this performance task?"
   ]
  },
  {
   "cell_type": "markdown",
   "metadata": {},
   "source": [
    "From the data I learned that the gap between approaching grade level and meeting grade level was much wider than I would have suspected. My intuition was that there would be a gap, but no more than ten percentage points or so. From the data processing I learned that negative numbers in your data can have unintended side effects when calculating percentages."
   ]
  },
  {
   "cell_type": "markdown",
   "metadata": {},
   "source": [
    "## How did you identify that you needed to learn something, and how did you go about filling this gap in your knowledge?"
   ]
  },
  {
   "cell_type": "markdown",
   "metadata": {},
   "source": []
  }
 ],
 "metadata": {
  "kernelspec": {
   "display_name": "Python 3",
   "language": "python",
   "name": "python3"
  },
  "language_info": {
   "codemirror_mode": {
    "name": "ipython",
    "version": 3
   },
   "file_extension": ".py",
   "mimetype": "text/x-python",
   "name": "python",
   "nbconvert_exporter": "python",
   "pygments_lexer": "ipython3",
   "version": "3.6.1"
  }
 },
 "nbformat": 4,
 "nbformat_minor": 2
}
